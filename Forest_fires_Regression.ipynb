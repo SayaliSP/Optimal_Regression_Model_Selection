{
 "cells": [
  {
   "cell_type": "markdown",
   "metadata": {},
   "source": [
    "# Title: Optimal Regression Model Selection"
   ]
  },
  {
   "cell_type": "markdown",
   "metadata": {},
   "source": [
    "# Abstract\n",
    "\n",
    "This project is aimed to determine the most suitable _Regression model_ for a given dataset, with the goal of optimizing predictive accuracy. The methodology involved an exhaustive exploration of various regression models, including: \n",
    "1. Linear, 2. Decision Tree, 3. Random Forest, 4. Ridge, 5. Lasso, and 6. Support Vector Regression (SVR). \n",
    "\n",
    "The dataset was carefully preprocessed and trained, and evaluation metrics:\n",
    "1. R-squared, 2. Mean Squared Error (MSE), 3. Root Mean Squared Error (RMSE), and 4. Mean Absolute Error (MAE) \n",
    "\n",
    "were employed to quantitatively compare model performance.\n",
    "\n",
    "Rigorous feature selection methods:\n",
    "1. Filter techniques - A. Feature Importance, B. Variance Threshold, C. SelectKBest using ANOVA F-value, D. SelectPercentile\n",
    "2. Wrapper Technique - A. Backward selection, B. RFE (Backward selection method), C. RFE with Cross-Validation (Method 1), D. RFE with Cross-Validation (Method 2)\n",
    "\n",
    "were also utilised to find most important features.\n",
    "\n",
    "Feature selection procedures also highlighted the importance of specific predictor variables in enhancing model accuracy. These results have significant implications for decision-making processes reliant on accurate predictions, spanning fields such as finance, economics, and engineering.\n",
    "\n",
    "The study's outcomes underscore the critical role of model selection in achieving optimal predictions, enabling stakeholders to make informed choices based on robust data-driven insights. The methodologies and insights gleaned from this study provide a valuable framework for selecting regression models tailored to specific datasets, contributing to the advancement of accurate and reliable predictive modeling."
   ]
  },
  {
   "cell_type": "markdown",
   "metadata": {},
   "source": [
    "# Introduction\n",
    "\n",
    "Regression model selection plays a pivotal role in data analysis by determining the most appropriate mathematical framework for modeling relationships between variables. It holds profound significance due to its potential to enhance the accuracy, interpretability, and generalization capabilities of predictive models.\n",
    "\n",
    "The core essence of regression analysis lies in its ability to unveil hidden patterns, quantify associations, and make informed predictions. However, the effectiveness of these outcomes is directly linked to the selection of the right regression model. A misaligned choice can lead to biased estimates, unreliable predictions, and flawed insights.\n",
    "\n",
    "A key aspect of regression model selection is striking a balance between model complexity and generalization. Overly complex models may overfit the training data, capturing noise and leading to poor performance on new data. On the other hand, overly simplistic models may overlook important relationships, resulting in underfitting.\n",
    "\n",
    "Furthermore, different regression techniques cater to distinct types of relationships and data structures. For instance, linear regression assumes a linear relationship between variables, while advanced methods like ridge and lasso regression are designed to handle multicollinearity and prevent overfitting. The relevance of regression model selection extends across diverse fields. In economics, it aids in predicting market trends and consumer behavior. In healthcare, it supports disease prognosis and treatment effectiveness assessment. Environmental science benefits from modeling complex interactions. In all domains, informed model selection translates to more accurate insights, better decision-making, and enhanced problem-solving capabilities.\n",
    "\n",
    "In conclusion, the careful selection of a regression model is a cornerstone of effective data analysis. It ensures the model's compatibility with the data's nature, enhances predictive accuracy, and amplifies the potential for extracting meaningful insights. As the volume and complexity of data continue to grow, the role of regression model selection becomes increasingly pivotal in unlocking the true value of data-driven exploration and decision-making."
   ]
  },
  {
   "cell_type": "markdown",
   "metadata": {},
   "source": [
    "First of all we will import necessary libraries."
   ]
  },
  {
   "cell_type": "code",
   "execution_count": 1,
   "metadata": {},
   "outputs": [],
   "source": [
    "from sklearn import linear_model \n",
    "from sklearn import metrics \n",
    "from sklearn.model_selection import train_test_split\n",
    "import pandas as pd\n",
    "import numpy as np\n",
    "import matplotlib.pyplot as plt\n",
    "%matplotlib inline"
   ]
  },
  {
   "cell_type": "markdown",
   "metadata": {},
   "source": [
    "The dataset's preparation for analysis entails a meticulous process involving data sources, variables, and preprocessing steps to ensure its reliability and relevance. Ensuring data quality and integrity is crucial to derive accurate insights."
   ]
  },
  {
   "cell_type": "markdown",
   "metadata": {},
   "source": [
    "### Data Cleaning and Preprocessing\n",
    "\n",
    "Eliminate inconsistencies, missing values, and outliers that could distort analysis results. Impute missing data using appropriate methods. Here, I have removed the inconsistencies (missing values) and created a new file for cleaned data. "
   ]
  },
  {
   "cell_type": "code",
   "execution_count": 2,
   "metadata": {},
   "outputs": [
    {
     "name": "stdout",
     "output_type": "stream",
     "text": [
      "(517, 13)\n"
     ]
    },
    {
     "data": {
      "text/html": [
       "<div>\n",
       "<style scoped>\n",
       "    .dataframe tbody tr th:only-of-type {\n",
       "        vertical-align: middle;\n",
       "    }\n",
       "\n",
       "    .dataframe tbody tr th {\n",
       "        vertical-align: top;\n",
       "    }\n",
       "\n",
       "    .dataframe thead th {\n",
       "        text-align: right;\n",
       "    }\n",
       "</style>\n",
       "<table border=\"1\" class=\"dataframe\">\n",
       "  <thead>\n",
       "    <tr style=\"text-align: right;\">\n",
       "      <th></th>\n",
       "      <th>X</th>\n",
       "      <th>Y</th>\n",
       "      <th>month</th>\n",
       "      <th>day</th>\n",
       "      <th>FFMC</th>\n",
       "      <th>DMC</th>\n",
       "      <th>DC</th>\n",
       "      <th>ISI</th>\n",
       "      <th>temp</th>\n",
       "      <th>RH</th>\n",
       "      <th>wind</th>\n",
       "      <th>rain</th>\n",
       "      <th>area</th>\n",
       "    </tr>\n",
       "  </thead>\n",
       "  <tbody>\n",
       "    <tr>\n",
       "      <th>0</th>\n",
       "      <td>7</td>\n",
       "      <td>5</td>\n",
       "      <td>mar</td>\n",
       "      <td>fri</td>\n",
       "      <td>86.2</td>\n",
       "      <td>26.2</td>\n",
       "      <td>94.3</td>\n",
       "      <td>5.1</td>\n",
       "      <td>8.2</td>\n",
       "      <td>51</td>\n",
       "      <td>6.7</td>\n",
       "      <td>0.0</td>\n",
       "      <td>0.0</td>\n",
       "    </tr>\n",
       "    <tr>\n",
       "      <th>1</th>\n",
       "      <td>7</td>\n",
       "      <td>4</td>\n",
       "      <td>oct</td>\n",
       "      <td>tue</td>\n",
       "      <td>90.6</td>\n",
       "      <td>35.4</td>\n",
       "      <td>669.1</td>\n",
       "      <td>6.7</td>\n",
       "      <td>18.0</td>\n",
       "      <td>33</td>\n",
       "      <td>0.9</td>\n",
       "      <td>0.0</td>\n",
       "      <td>0.0</td>\n",
       "    </tr>\n",
       "    <tr>\n",
       "      <th>2</th>\n",
       "      <td>7</td>\n",
       "      <td>4</td>\n",
       "      <td>oct</td>\n",
       "      <td>sat</td>\n",
       "      <td>90.6</td>\n",
       "      <td>43.7</td>\n",
       "      <td>686.9</td>\n",
       "      <td>6.7</td>\n",
       "      <td>14.6</td>\n",
       "      <td>33</td>\n",
       "      <td>1.3</td>\n",
       "      <td>0.0</td>\n",
       "      <td>0.0</td>\n",
       "    </tr>\n",
       "    <tr>\n",
       "      <th>3</th>\n",
       "      <td>8</td>\n",
       "      <td>6</td>\n",
       "      <td>mar</td>\n",
       "      <td>fri</td>\n",
       "      <td>91.7</td>\n",
       "      <td>33.3</td>\n",
       "      <td>77.5</td>\n",
       "      <td>9.0</td>\n",
       "      <td>8.3</td>\n",
       "      <td>97</td>\n",
       "      <td>4.0</td>\n",
       "      <td>0.2</td>\n",
       "      <td>0.0</td>\n",
       "    </tr>\n",
       "    <tr>\n",
       "      <th>4</th>\n",
       "      <td>8</td>\n",
       "      <td>6</td>\n",
       "      <td>mar</td>\n",
       "      <td>sun</td>\n",
       "      <td>89.3</td>\n",
       "      <td>51.3</td>\n",
       "      <td>102.2</td>\n",
       "      <td>9.6</td>\n",
       "      <td>11.4</td>\n",
       "      <td>99</td>\n",
       "      <td>1.8</td>\n",
       "      <td>0.0</td>\n",
       "      <td>0.0</td>\n",
       "    </tr>\n",
       "  </tbody>\n",
       "</table>\n",
       "</div>"
      ],
      "text/plain": [
       "   X  Y month  day  FFMC   DMC     DC  ISI  temp  RH  wind  rain  area\n",
       "0  7  5   mar  fri  86.2  26.2   94.3  5.1   8.2  51   6.7   0.0   0.0\n",
       "1  7  4   oct  tue  90.6  35.4  669.1  6.7  18.0  33   0.9   0.0   0.0\n",
       "2  7  4   oct  sat  90.6  43.7  686.9  6.7  14.6  33   1.3   0.0   0.0\n",
       "3  8  6   mar  fri  91.7  33.3   77.5  9.0   8.3  97   4.0   0.2   0.0\n",
       "4  8  6   mar  sun  89.3  51.3  102.2  9.6  11.4  99   1.8   0.0   0.0"
      ]
     },
     "execution_count": 2,
     "metadata": {},
     "output_type": "execute_result"
    }
   ],
   "source": [
    "data_orig = pd.read_csv('forestfires.csv') \n",
    "# for Excel files function will be pd.read_excel(Filename.xlsx)\n",
    "\n",
    "data = data_orig.dropna(subset=['rain'])\n",
    "data.to_csv('forestfires_cleaned.csv',index=False)\n",
    "# for Excel files function will be data.to_excel(New_Filename.xlsx)\n",
    "\n",
    "print(data.shape)\n",
    "data.head()"
   ]
  },
  {
   "cell_type": "markdown",
   "metadata": {},
   "source": [
    "### Getting data\n",
    "I have used a dataset for forest fires with name forestfires.csv containg different variables related to forest fires. I have considered **'FFMC', 'DMC', 'DC', 'ISI', 'temp', 'RH', 'wind', 'area'** as input variables and **'rain'** as output variable. You can add you own data, input column names and output column name as independent and dependent variable variables respectively, as this is going to be multivariate analysis. "
   ]
  },
  {
   "cell_type": "markdown",
   "metadata": {},
   "source": [
    "### Training data\n",
    "\n",
    "During the training process, the regression model learns the relationships between the input features and the target output from the training data. It adjusts its internal parameters to minimize the difference between its predictions and the actual target values. \n",
    "\n",
    "The train-test split is a fundamental step in machine learning where the dataset is divided into two separate subsets: the training set and the test set. This division is crucial for assessing the performance of a machine learning model accurately. We have considered the the ratio train:test = 20:80 for better training of data and testing it on a smaller data."
   ]
  },
  {
   "cell_type": "code",
   "execution_count": 3,
   "metadata": {},
   "outputs": [],
   "source": [
    "# Get data\n",
    "X_list = ['FFMC','DMC','DC','ISI','temp','RH','wind','area']\n",
    "X = data[X_list].values\n",
    "# X1 = data[['DMC']].values\n",
    "Y= data['rain'].values\n",
    "# print(X, Y)\n",
    "\n",
    "# Train data\n",
    "X_train, X_test , Y_train, Y_test = train_test_split(X, Y, test_size=0.2, random_state=42)"
   ]
  },
  {
   "cell_type": "markdown",
   "metadata": {},
   "source": [
    "## Linear Regression \n",
    "\n",
    "Linear regression is a fundamental and widely used statistical method in machine learning and statistics for modeling the relationship between a dependent variable and one or more independent variables. It assumes a linear relationship between the variables, aiming to find the best-fitting linear equation that predicts the dependent variable based on the independent variables.\n",
    "\n",
    "In its simplest form, a linear regression equation for a single independent variable can be represented as: \n",
    "\n",
    "y = b<sub>0</sub> + b<sub>1</sub> x\n",
    "\n",
    "where y is the dependent variable (target), x is the independent variable (input feature), b<sub>1</sub> is the slope (coefficient) of the line, b<sub>0</sub> is the y-intercept.\n",
    "\n",
    "For multivariate analysis, equation becomes:\n",
    "\n",
    "y = b<sub>0</sub> + b<sub>1</sub> x<sub>1</sub> + b<sub>2</sub> x<sub>2</sub> + b<sub>3</sub> x<sub>3</sub> +...+ b<sub>n</sub> x<sub>n</sub>   ----- x<sub>i</sub> and b<sub>i</sub> -- i is a positive integer\n",
    "\n",
    "where y is the dependent variable (target), x<sub>i</sub> are the independent variables (input features), b<sub>i</sub> is the slope (coefficient) of the line, b<sub>0</sub> is the y-intercept."
   ]
  },
  {
   "cell_type": "code",
   "execution_count": 4,
   "metadata": {},
   "outputs": [],
   "source": [
    "# Create a linear regression model\n",
    "reg = linear_model.LinearRegression()"
   ]
  },
  {
   "cell_type": "code",
   "execution_count": 5,
   "metadata": {},
   "outputs": [],
   "source": [
    "# Fit the data\n",
    "reg_Fit = reg.fit(X_train, Y_train)"
   ]
  },
  {
   "cell_type": "code",
   "execution_count": 6,
   "metadata": {},
   "outputs": [],
   "source": [
    "# Predict the dependent variable using independent varables from test set\n",
    "reg_Y_pred = reg.predict(X_test)\n",
    "# print(reg_Y_pred)"
   ]
  },
  {
   "cell_type": "code",
   "execution_count": 7,
   "metadata": {},
   "outputs": [
    {
     "data": {
      "text/plain": [
       "-0.6502471133821643"
      ]
     },
     "execution_count": 7,
     "metadata": {},
     "output_type": "execute_result"
    }
   ],
   "source": [
    "# Find the y-intercept\n",
    "reg.intercept_"
   ]
  },
  {
   "cell_type": "code",
   "execution_count": 8,
   "metadata": {},
   "outputs": [
    {
     "data": {
      "text/plain": [
       "array([ 2.78251301e-03, -1.53242639e-04, -7.92346495e-05,  1.59588264e-03,\n",
       "        1.23707312e-02,  4.30535326e-03,  1.05984541e-02, -8.54690595e-05])"
      ]
     },
     "execution_count": 8,
     "metadata": {},
     "output_type": "execute_result"
    }
   ],
   "source": [
    "# Find the coefficients\n",
    "reg.coef_"
   ]
  },
  {
   "cell_type": "code",
   "execution_count": 9,
   "metadata": {},
   "outputs": [
    {
     "data": {
      "text/plain": [
       "0.06873232055140022"
      ]
     },
     "execution_count": 9,
     "metadata": {},
     "output_type": "execute_result"
    }
   ],
   "source": [
    "# Find r-squared score\n",
    "reg.score(X_test,Y_test)"
   ]
  },
  {
   "cell_type": "code",
   "execution_count": 10,
   "metadata": {},
   "outputs": [],
   "source": [
    "# Find the prediction error\n",
    "pred_err_reg = reg_Y_pred-Y_test\n",
    "# print(pred_err_reg)"
   ]
  },
  {
   "cell_type": "code",
   "execution_count": 11,
   "metadata": {
    "scrolled": false
   },
   "outputs": [
    {
     "data": {
      "image/png": "[encoded data removed]",
      "text/plain": [
       "<Figure size 432x288 with 1 Axes>"
      ]
     },
     "metadata": {
      "needs_background": "light"
     },
     "output_type": "display_data"
    }
   ],
   "source": [
    "# Plotting Target variables vs Independent variables - given and predicted\n",
    "\n",
    "# plt.plot(X,Y,'.',color='grey')\n",
    "plt.plot(X_test,Y_test,'.',color='red')\n",
    "plt.plot(X_test,reg_Y_pred,'.',color='blue')\n",
    "# plt.plot(Y_test,reg_Y_pred,'.',color='black')\n",
    "plt.xlabel(\"Independent Variables\")\n",
    "plt.ylabel(\"Target variable\")\n",
    "plt.title(\"Linear Regression\")\n",
    "plt.show()"
   ]
  },
  {
   "cell_type": "code",
   "execution_count": 12,
   "metadata": {
    "scrolled": true
   },
   "outputs": [
    {
     "data": {
      "image/png": "[encoded data removed]",
      "text/plain": [
       "<Figure size 432x288 with 1 Axes>"
      ]
     },
     "metadata": {
      "needs_background": "light"
     },
     "output_type": "display_data"
    }
   ],
   "source": [
    "# Plotting Target variables - given, predicted and prediction error\n",
    "\n",
    "plt.plot(Y_test,color='green',label='Actual data')\n",
    "plt.plot(reg_Y_pred,'-',color='blue',label='Predicted data')\n",
    "plt.plot(pred_err_reg,'--',color='red',label='Prediction error')\n",
    "plt.xlabel(\"Observed data\")\n",
    "plt.ylabel(\"Predicted data\")\n",
    "plt.title(\"Prediction error\")\n",
    "plt.legend()\n",
    "plt.show()"
   ]
  },
  {
   "cell_type": "markdown",
   "metadata": {},
   "source": [
    "## Evaluation metrics\n",
    "\n",
    "Also called performance metrics, are essential tools for assessing the quality of a machine learning model's predictions. They help quantify how well a model is performing and provide insights into its strengths and weaknesses. \n",
    "\n",
    "The choice of which metric to use depends on the specific problem, the nature of the data, and the goals of the analysis. It's often a good practice to use a combination of metrics to get a comprehensive understanding of the model's performance. And that's what we will be doing here."
   ]
  },
  {
   "cell_type": "markdown",
   "metadata": {},
   "source": [
    "### 1. R-squared (Coefficient of Determination):\n",
    "\n",
    "1) Represents the proportion of the variance in the dependent variable that's explained by the independent variables.\n",
    "\n",
    "2) Ranges from 0 to 1; higher values indicate a better fit.\n",
    "\n",
    "3) Can be interpreted as the model's goodness of fit.\n",
    "\n",
    "4) It's important to note that R-squared can be misleading in certain cases, especially when dealing with complex models."
   ]
  },
  {
   "cell_type": "code",
   "execution_count": 13,
   "metadata": {
    "scrolled": true
   },
   "outputs": [
    {
     "name": "stdout",
     "output_type": "stream",
     "text": [
      "0.06873232055140022\n"
     ]
    }
   ],
   "source": [
    "r2_reg = metrics.r2_score(Y_test,reg_Y_pred)\n",
    "print(r2_reg)"
   ]
  },
  {
   "cell_type": "markdown",
   "metadata": {},
   "source": [
    "### 2. Mean Squared Error (MSE):\n",
    "\n",
    "1) Measures the average squared difference between predicted values and actual target values.\n",
    "\n",
    "2) Penalizes larger errors more heavily.\n",
    "\n",
    "3) Lower values indicate better model performance.\n",
    "\n",
    "4) MSE = Σ(y_actual - y_predicted)^2 / n"
   ]
  },
  {
   "cell_type": "code",
   "execution_count": 14,
   "metadata": {},
   "outputs": [
    {
     "name": "stdout",
     "output_type": "stream",
     "text": [
      "0.022864963475810848\n"
     ]
    }
   ],
   "source": [
    "mean2_reg = metrics.mean_squared_error(Y_test,reg_Y_pred)\n",
    "print(mean2_reg)"
   ]
  },
  {
   "cell_type": "markdown",
   "metadata": {},
   "source": [
    "### 3. Root Mean Squared Error (RMSE):\n",
    "\n",
    "1) Derived from MSE by taking the square root.\n",
    "\n",
    "2) RMSE is in the same unit as the target variable, making it more interpretable.\n",
    "\n",
    "3) RMSE = √(Σ(y_actual - y_predicted)^2 / n)"
   ]
  },
  {
   "cell_type": "code",
   "execution_count": 15,
   "metadata": {},
   "outputs": [
    {
     "name": "stdout",
     "output_type": "stream",
     "text": [
      "0.15121165125680908\n"
     ]
    }
   ],
   "source": [
    "rt_mean2_reg = metrics.mean_squared_error(Y_test,reg_Y_pred, squared=False)\n",
    "print(rt_mean2_reg)"
   ]
  },
  {
   "cell_type": "markdown",
   "metadata": {},
   "source": [
    "### 4. Mean Absolute Error (MAE):\n",
    "\n",
    "1) Measures the average absolute difference between predicted values and actual target values.\n",
    "\n",
    "2) Less sensitive to outliers compared to MSE.\n",
    "\n",
    "3) MAE = Σ|y_actual - y_predicted| / n"
   ]
  },
  {
   "cell_type": "code",
   "execution_count": 16,
   "metadata": {},
   "outputs": [
    {
     "name": "stdout",
     "output_type": "stream",
     "text": [
      "0.06728905693350812\n"
     ]
    }
   ],
   "source": [
    "mean_abs_reg = metrics.mean_absolute_error(Y_test,reg_Y_pred)\n",
    "print(mean_abs_reg)"
   ]
  },
  {
   "cell_type": "markdown",
   "metadata": {},
   "source": [
    "**Applications:**\n",
    "\n",
    "Linear regression is used in various fields for prediction, understanding relationships, and making inferences. Common applications include economics (predicting sales based on advertising), medicine (predicting patient outcomes based on medical history), and social sciences (predicting voting behavior based on demographics). Linear regression forms the foundation for more advanced regression techniques and serves as an essential tool for understanding and modeling linear relationships in data.\n",
    "\n",
    "**Strengths:**\n",
    "\n",
    "1. Simple and interpretable.\n",
    "2. Provides insights into relationships between variables.\n",
    "3. Often serves as a baseline model for more complex methods.\n",
    "\n",
    "**Limitations:**\n",
    "\n",
    "1. Assumes linear relationships, which may not hold in all cases.\n",
    "2. Sensitive to outliers.\n",
    "3. May not perform well with high-dimensional data or complex interactions.\n",
    "\n",
    "Linear regression forms the foundation for more advanced regression techniques and serves as an essential tool for understanding and modeling linear relationships in data."
   ]
  },
  {
   "cell_type": "markdown",
   "metadata": {},
   "source": [
    "## Decision Tree Regression\n",
    "\n",
    "Decision Tree Regression is a powerful supervised machine learning algorithm used for both classification and regression tasks. In this context, we'll focus on Decision Tree Regression, which involves predicting a continuous target variable based on input features. Here's an overview of Decision Tree Regression:\n",
    "\n",
    "1. **Decision Tree:** A decision tree is a hierarchical structure that makes a sequence of decisions based on the input features, leading to a final prediction. It resembles an upside-down tree where each internal node represents a decision based on a specific feature, and each leaf node represents a prediction.\n",
    "\n",
    "2. **Splitting Criteria:** Decision trees make splits at each internal node based on specific criteria to maximize information gain or minimize impurity. Common splitting criteria include Mean Squared Error (MSE) for regression tasks.\n",
    "\n",
    "3. **Leaf Value:** The value assigned to a leaf node in a decision tree is typically the average (or median) of the target values of the training examples that reach that leaf.\n",
    "\n",
    "4. **Overfitting:** Decision trees are prone to overfitting, where they learn the training data's noise and perform poorly on new, unseen data. Techniques like pruning and setting minimum samples per leaf can help mitigate overfitting."
   ]
  },
  {
   "cell_type": "code",
   "execution_count": 17,
   "metadata": {},
   "outputs": [],
   "source": [
    "from sklearn import tree"
   ]
  },
  {
   "cell_type": "code",
   "execution_count": 18,
   "metadata": {},
   "outputs": [],
   "source": [
    "# Create a Decision tree regression model\n",
    "Dtree = tree.DecisionTreeRegressor(max_depth=4,random_state=42)"
   ]
  },
  {
   "cell_type": "code",
   "execution_count": 19,
   "metadata": {},
   "outputs": [],
   "source": [
    "# Fit the data\n",
    "Dtree_Fit = Dtree.fit(X_train, Y_train)"
   ]
  },
  {
   "cell_type": "code",
   "execution_count": 20,
   "metadata": {},
   "outputs": [
    {
     "data": {
      "image/png": "[encoded data removed]",
      "text/plain": [
       "<Figure size 1800x1200 with 1 Axes>"
      ]
     },
     "metadata": {
      "needs_background": "light"
     },
     "output_type": "display_data"
    }
   ],
   "source": [
    "# Draw the decision tree\n",
    "fig, ax = plt.subplots(figsize = (6,4), dpi=300)\n",
    "tree.plot_tree(Dtree)\n",
    "plt.show()\n",
    "# fig.savefig('FFires_DTree.png')"
   ]
  },
  {
   "cell_type": "code",
   "execution_count": 21,
   "metadata": {},
   "outputs": [
    {
     "name": "stdout",
     "output_type": "stream",
     "text": [
      "[0.  0.8 0.  0.  0.  0.  0.  0.  0.  0.  0.  0.  0.  0.  0.  0.  0.  0.\n",
      " 0.  0.  0.  0.  0.  0.  0.  0.  0.  0.  0.  0.  0.  0.  0.  0.  0.  0.\n",
      " 0.  0.  0.  0.  0.  0.  0.  0.  0.  0.  0.  0.  0.  0.  0.  0.  0.  0.\n",
      " 0.  0.  0.  0.  0.  0.  0.  0.  0.  0.  0.  0.  0.  0.  0.  0.  0.  0.\n",
      " 0.  0.  0.  0.  0.  0.  0.  0.  0.  0.  0.  0.  0.  0.  0.  0.  0.  0.\n",
      " 0.  0.  0.  0.  0.  0.  0.  0.  0.  0.  0.  0.  0.  0. ]\n"
     ]
    }
   ],
   "source": [
    "# Predict the dependent variable using independent varables from test set\n",
    "Dtree_Y_pred = Dtree.predict(X_test)\n",
    "print(Dtree_Y_pred)"
   ]
  },
  {
   "cell_type": "code",
   "execution_count": 22,
   "metadata": {},
   "outputs": [],
   "source": [
    "# Find the prediction error\n",
    "pred_err_Dtree = Dtree_Y_pred-Y_test\n",
    "# print(pred_err_Dtree)"
   ]
  },
  {
   "cell_type": "code",
   "execution_count": 23,
   "metadata": {},
   "outputs": [
    {
     "data": {
      "image/png": "[encoded data removed]",
      "text/plain": [
       "<Figure size 432x288 with 1 Axes>"
      ]
     },
     "metadata": {
      "needs_background": "light"
     },
     "output_type": "display_data"
    }
   ],
   "source": [
    "# Plotting Target variables vs Independent variables - given and predicted\n",
    "\n",
    "# plt.plot(X,Y,'.',color='grey')\n",
    "# plt.rcParams['figure.figsize'] = (15,6)\n",
    "plt.plot(X_test,Y_test,'.',color='red')\n",
    "plt.plot(X_test,Dtree_Y_pred,'.',color='blue')\n",
    "# plt.plot(Y_test,Dtree_Y_pred,'.',color='black')\n",
    "plt.xlabel(\"Independent Variables\")\n",
    "plt.ylabel(\"Target variable\")\n",
    "plt.title(\"Decision Tree Regression\")\n",
    "plt.show()"
   ]
  },
  {
   "cell_type": "code",
   "execution_count": 24,
   "metadata": {},
   "outputs": [
    {
     "data": {
      "image/png": "[encoded data removed]",
      "text/plain": [
       "<Figure size 432x288 with 1 Axes>"
      ]
     },
     "metadata": {
      "needs_background": "light"
     },
     "output_type": "display_data"
    }
   ],
   "source": [
    "# Plotting Target variables - given, predicted and prediction error\n",
    "\n",
    "plt.plot(Y_test,color='green',label='Actual data')\n",
    "plt.plot(Dtree_Y_pred,'-',color='blue',label='Predicted data')\n",
    "plt.plot(pred_err_Dtree,'--',color='red',label='Prediction error')\n",
    "plt.xlabel(\"Observed data\")\n",
    "plt.ylabel(\"Predicted data\")\n",
    "plt.title(\"Prediction error\")\n",
    "plt.legend()\n",
    "plt.show()"
   ]
  },
  {
   "cell_type": "markdown",
   "metadata": {},
   "source": [
    "## Evaluation metrics"
   ]
  },
  {
   "cell_type": "markdown",
   "metadata": {},
   "source": [
    "### 1. R-squared (Coefficient of Determination):"
   ]
  },
  {
   "cell_type": "code",
   "execution_count": 25,
   "metadata": {
    "scrolled": true
   },
   "outputs": [
    {
     "name": "stdout",
     "output_type": "stream",
     "text": [
      "0.23241452025907516\n"
     ]
    }
   ],
   "source": [
    "r2_Dtree = metrics.r2_score(Y_test,Dtree_Y_pred)\n",
    "print(r2_Dtree)"
   ]
  },
  {
   "cell_type": "markdown",
   "metadata": {},
   "source": [
    "### 2. Mean Squared Error (MSE):"
   ]
  },
  {
   "cell_type": "code",
   "execution_count": 26,
   "metadata": {},
   "outputs": [
    {
     "name": "stdout",
     "output_type": "stream",
     "text": [
      "0.018846153846153842\n"
     ]
    }
   ],
   "source": [
    "mean2_Dtree = metrics.mean_squared_error(Y_test,Dtree_Y_pred)\n",
    "print(mean2_Dtree)"
   ]
  },
  {
   "cell_type": "markdown",
   "metadata": {},
   "source": [
    "### 3. Root Mean Squared Error (RMSE):"
   ]
  },
  {
   "cell_type": "code",
   "execution_count": 27,
   "metadata": {},
   "outputs": [
    {
     "name": "stdout",
     "output_type": "stream",
     "text": [
      "0.1372812945967288\n"
     ]
    }
   ],
   "source": [
    "rt_mean2_Dtree = metrics.mean_squared_error(Y_test,Dtree_Y_pred, squared=False)\n",
    "print(rt_mean2_Dtree)"
   ]
  },
  {
   "cell_type": "markdown",
   "metadata": {},
   "source": [
    "### 4. Mean Absolute Error (MAE):"
   ]
  },
  {
   "cell_type": "code",
   "execution_count": 28,
   "metadata": {},
   "outputs": [
    {
     "name": "stdout",
     "output_type": "stream",
     "text": [
      "0.01346153846153846\n"
     ]
    }
   ],
   "source": [
    "mean_abs_Dtree = metrics.mean_absolute_error(Y_test,Dtree_Y_pred)\n",
    "print(mean_abs_Dtree)"
   ]
  },
  {
   "cell_type": "markdown",
   "metadata": {},
   "source": [
    "#### Importances of features"
   ]
  },
  {
   "cell_type": "code",
   "execution_count": 29,
   "metadata": {},
   "outputs": [
    {
     "name": "stdout",
     "output_type": "stream",
     "text": [
      "temp    0.548048\n",
      "RH      0.261702\n",
      "FFMC    0.189010\n",
      "wind    0.001240\n",
      "area    0.000000\n",
      "ISI     0.000000\n",
      "DC      0.000000\n",
      "DMC     0.000000\n",
      "dtype: float64\n"
     ]
    }
   ],
   "source": [
    "Dtree_imp =pd.Series(Dtree_Fit.feature_importances_, index=X_list).sort_values(ascending=False)\n",
    "print(Dtree_imp)"
   ]
  },
  {
   "cell_type": "markdown",
   "metadata": {},
   "source": [
    "**Applications**:\n",
    "\n",
    "Decision Tree Regression's applications span finance (stock price prediction, credit risk assessment), healthcare (patient recovery prediction, disease risk factors), marketing (customer segmentation, churn prediction), retail (demand forecasting, price optimization), and manufacturing (equipment failure prediction, quality control). Its versatility in modeling complex relationships makes it valuable across industries.\n",
    "\n",
    "**Strengths**:\n",
    "\n",
    "1. Decision trees are easy to understand and visualize, making them particularly useful for explaining model decisions. \n",
    "\n",
    "2. They handle both numerical and categorical data. \n",
    "\n",
    "3. Decision trees can capture non-linear relationships between features and the target variable.\n",
    "\n",
    "**Limitations:**\n",
    "\n",
    "1. Decision trees can be sensitive to small variations in the data, which can lead to different tree structures. \n",
    "\n",
    "2. They are prone to overfitting, especially when the tree is deep. \n",
    "\n",
    "3. Decision trees might not perform well when the relationships in the data are complex and involve multiple variables.\n",
    "\n",
    "Decision Tree Regression's ability to handle both numerical and categorical data makes it suitable for a wide range of applications where understanding and interpreting the relationships between variables are important. However, as with any machine learning technique, it's important to carefully preprocess data, select appropriate features, and fine-tune hyperparameters to achieve optimal results for a specific application."
   ]
  },
  {
   "cell_type": "markdown",
   "metadata": {},
   "source": [
    "## Random Forest Regression\n",
    "\n",
    "Random Forest Regression is a powerful ensemble learning algorithm used for regression tasks. It builds multiple decision trees during training and combines their predictions to improve accuracy and reduce overfitting. Here's a brief overview:\n",
    "\n",
    "1. **Ensemble Method:** Random Forest combines the predictions of multiple decision trees, known as an ensemble, to provide more accurate and robust predictions.\n",
    "\n",
    "2. **Randomness:** It introduces randomness by selecting a random subset of features and a random subset of data for each tree, reducing the risk of overfitting.\n",
    "\n",
    "3. **Prediction Aggregation:** Predictions from individual trees are aggregated through averaging (for regression) to produce the final result."
   ]
  },
  {
   "cell_type": "code",
   "execution_count": 30,
   "metadata": {},
   "outputs": [],
   "source": [
    "from sklearn.ensemble import RandomForestRegressor"
   ]
  },
  {
   "cell_type": "code",
   "execution_count": 31,
   "metadata": {},
   "outputs": [],
   "source": [
    "# Create a Random forest regression model\n",
    "RF = RandomForestRegressor(random_state=42)"
   ]
  },
  {
   "cell_type": "code",
   "execution_count": 32,
   "metadata": {},
   "outputs": [],
   "source": [
    "# Fit the data\n",
    "RF_Fit = RF.fit(X_train, Y_train)"
   ]
  },
  {
   "cell_type": "code",
   "execution_count": 33,
   "metadata": {},
   "outputs": [
    {
     "name": "stdout",
     "output_type": "stream",
     "text": [
      "[0.042 1.56  0.    0.    0.    0.    0.    0.    0.    0.    0.    0.\n",
      " 0.    0.    0.01  0.    0.    0.    0.    0.    0.    0.    0.    0.\n",
      " 0.    0.    0.    0.    0.    0.    0.23  0.    0.    0.    0.    0.\n",
      " 0.    0.    0.    0.    0.    0.    0.    0.    0.    0.    0.    0.\n",
      " 0.    0.    0.    0.    0.    0.    0.    0.    0.    0.    0.    0.\n",
      " 0.    0.    0.    0.    0.    0.    0.    0.    0.    0.    0.    0.\n",
      " 0.    0.    0.    0.    0.    0.    0.    0.    0.    0.    0.    0.\n",
      " 0.    0.    0.    0.    0.    0.    0.    0.03  0.    0.002 0.    0.\n",
      " 0.    0.    0.    0.028 0.    0.07  0.044 0.01 ]\n"
     ]
    }
   ],
   "source": [
    "# Predict the dependent variable using independent varables from test set\n",
    "RF_Y_pred = RF.predict(X_test)\n",
    "print(RF_Y_pred)"
   ]
  },
  {
   "cell_type": "code",
   "execution_count": 34,
   "metadata": {},
   "outputs": [
    {
     "data": {
      "text/plain": [
       "0.05814598584123998"
      ]
     },
     "execution_count": 34,
     "metadata": {},
     "output_type": "execute_result"
    }
   ],
   "source": [
    "# Find r-squared score\n",
    "RF.score(X_test,Y_test)"
   ]
  },
  {
   "cell_type": "code",
   "execution_count": 35,
   "metadata": {},
   "outputs": [],
   "source": [
    "# Find the prediction error\n",
    "pred_err_RF = RF_Y_pred-Y_test\n",
    "# print(pred_err_RF)"
   ]
  },
  {
   "cell_type": "code",
   "execution_count": 36,
   "metadata": {
    "scrolled": true
   },
   "outputs": [
    {
     "data": {
      "image/png": "[encoded data removed]",
      "text/plain": [
       "<Figure size 432x288 with 1 Axes>"
      ]
     },
     "metadata": {
      "needs_background": "light"
     },
     "output_type": "display_data"
    }
   ],
   "source": [
    "# Plotting Target variables vs Independent variables - given and predicted\n",
    "\n",
    "# plt.plot(X,Y,'.',color='grey')\n",
    "# plt.rcParams['figure.figsize'] = (15,6)\n",
    "plt.plot(X_test,Y_test,'.',color='red')\n",
    "plt.plot(X_test,RF_Y_pred,'.',color='blue')\n",
    "plt.xlabel(\"Independent Variables\")\n",
    "plt.ylabel(\"Target variable\")\n",
    "plt.title(\"Random Forest Regression\")\n",
    "plt.show()"
   ]
  },
  {
   "cell_type": "code",
   "execution_count": 37,
   "metadata": {
    "scrolled": true
   },
   "outputs": [
    {
     "data": {
      "image/png": "[encoded data removed]",
      "text/plain": [
       "<Figure size 432x288 with 1 Axes>"
      ]
     },
     "metadata": {
      "needs_background": "light"
     },
     "output_type": "display_data"
    }
   ],
   "source": [
    "# Plotting Target variables - given, predicted and prediction error\n",
    "\n",
    "plt.plot(Y_test,color='green',label='Actual data')\n",
    "plt.plot(RF_Y_pred,'-',color='blue',label='Predicted data')\n",
    "plt.plot(pred_err_RF,'--',color='red',label='Prediction error')\n",
    "plt.xlabel(\"Observed data\")\n",
    "plt.ylabel(\"Predicted data\")\n",
    "plt.title(\"Prediction error\")\n",
    "plt.legend()\n",
    "plt.show()"
   ]
  },
  {
   "cell_type": "markdown",
   "metadata": {},
   "source": [
    "## Evaluation metrics"
   ]
  },
  {
   "cell_type": "markdown",
   "metadata": {},
   "source": [
    "### 1. R-squared (Coefficient of Determination):"
   ]
  },
  {
   "cell_type": "code",
   "execution_count": 38,
   "metadata": {
    "scrolled": true
   },
   "outputs": [
    {
     "name": "stdout",
     "output_type": "stream",
     "text": [
      "0.05814598584123998\n"
     ]
    }
   ],
   "source": [
    "r2_RF = metrics.r2_score(Y_test,RF_Y_pred)\n",
    "print(r2_RF)"
   ]
  },
  {
   "cell_type": "markdown",
   "metadata": {},
   "source": [
    "### 2. Mean Squared Error (MSE):"
   ]
  },
  {
   "cell_type": "code",
   "execution_count": 39,
   "metadata": {},
   "outputs": [
    {
     "name": "stdout",
     "output_type": "stream",
     "text": [
      "0.02312488461538464\n"
     ]
    }
   ],
   "source": [
    "mean2_RF = metrics.mean_squared_error(Y_test,RF_Y_pred)\n",
    "print(mean2_RF)"
   ]
  },
  {
   "cell_type": "markdown",
   "metadata": {},
   "source": [
    "### 3. Root Mean Squared Error (RMSE):"
   ]
  },
  {
   "cell_type": "code",
   "execution_count": 40,
   "metadata": {},
   "outputs": [
    {
     "name": "stdout",
     "output_type": "stream",
     "text": [
      "0.15206868387470393\n"
     ]
    }
   ],
   "source": [
    "rt_mean2_RF = metrics.mean_squared_error(Y_test,RF_Y_pred, squared=False)\n",
    "print(rt_mean2_RF)"
   ]
  },
  {
   "cell_type": "markdown",
   "metadata": {},
   "source": [
    "### 4. Mean Absolute Error (MAE):"
   ]
  },
  {
   "cell_type": "code",
   "execution_count": 41,
   "metadata": {},
   "outputs": [
    {
     "name": "stdout",
     "output_type": "stream",
     "text": [
      "0.02390384615384617\n"
     ]
    }
   ],
   "source": [
    "mean_abs_RF = metrics.mean_absolute_error(Y_test,RF_Y_pred)\n",
    "print(mean_abs_RF)"
   ]
  },
  {
   "cell_type": "markdown",
   "metadata": {},
   "source": [
    "#### Importances of features"
   ]
  },
  {
   "cell_type": "code",
   "execution_count": 42,
   "metadata": {
    "scrolled": true
   },
   "outputs": [
    {
     "name": "stdout",
     "output_type": "stream",
     "text": [
      "FFMC    0.244348\n",
      "DMC     0.005244\n",
      "DC      0.009144\n",
      "ISI     0.007471\n",
      "temp    0.267205\n",
      "RH      0.212132\n",
      "wind    0.122841\n",
      "area    0.131615\n",
      "dtype: float64\n"
     ]
    }
   ],
   "source": [
    "RF_imp =pd.Series(RF_Fit.feature_importances_, index=X_list)\n",
    "print(RF_imp)"
   ]
  },
  {
   "cell_type": "markdown",
   "metadata": {},
   "source": [
    "**Applications:**\n",
    "\n",
    "Similar to Decision Tree Regression, Random Forest Regression finds applications in finance, healthcare, marketing, and other fields for prediction tasks.\n",
    "\n",
    "**Strengths:**\n",
    "\n",
    "1. Improved prediction accuracy compared to single decision trees.\n",
    "\n",
    "2. Handles non-linear relationships and interactions well. \n",
    "\n",
    "3. Robust to outliers and noisy data. \n",
    "\n",
    "4. Provides feature importance rankings.\n",
    "\n",
    "**Limitations:**\n",
    "\n",
    "Complex Interpretation: Random Forest models can be difficult to interpret due to their ensemble nature, making it challenging to understand the precise decision process for individual predictions.\n",
    "\n",
    "1. Computational Demand: Training multiple decision trees and combining their predictions can be resource-intensive, especially for large datasets or numerous trees.\n",
    "\n",
    "2. Memory Consumption: Random Forest models can require significant memory, particularly with a high number of features or trees.\n",
    "\n",
    "3. Overfitting Risk: While Random Forest helps mitigate overfitting compared to single decision trees, it can still overfit noisy or small datasets.\n",
    "\n",
    "4. Limited Extrapolation: Predictions beyond the range of training data might lack reliability, potentially impacting performance in uncharted domains.\n",
    "\n",
    "Random Forest Regression is a versatile and powerful algorithm that can produce accurate predictions in various domains. It's a popular choice due to its ability to handle complex relationships and mitigate overfitting."
   ]
  },
  {
   "cell_type": "markdown",
   "metadata": {},
   "source": [
    "## Ridge Regression\n",
    "\n",
    "Ridge Regression, a type of linear regression, is a regularization technique used to prevent overfitting and improve the stability of the regression model. Here's a concise overview:\n",
    "\n",
    "1. **Regularization:** Ridge Regression adds a regularization term to the linear regression cost function, penalizing large coefficients.\n",
    "\n",
    "2. **L2 Norm Penalty:** Ridge Regression uses the L2 norm (Euclidean norm) of coefficient values as the regularization term.\n",
    "\n",
    "3. **Tuning Parameter:** A hyperparameter called lambda (α) controls the strength of regularization. Higher α leads to more regularization."
   ]
  },
  {
   "cell_type": "code",
   "execution_count": 43,
   "metadata": {},
   "outputs": [],
   "source": [
    "# Create a ridge regression model\n",
    "ridge = linear_model.Ridge(alpha=1,max_iter=1000,solver='auto')"
   ]
  },
  {
   "cell_type": "code",
   "execution_count": 44,
   "metadata": {},
   "outputs": [],
   "source": [
    "# Fit the data\n",
    "ridge_Fit = ridge.fit(X_train, Y_train)"
   ]
  },
  {
   "cell_type": "code",
   "execution_count": 45,
   "metadata": {},
   "outputs": [],
   "source": [
    "# Predict the dependent variable using independent varables from test set\n",
    "ridge_Y_pred = ridge.predict(X_test)\n",
    "# print(reg_Y_pred)"
   ]
  },
  {
   "cell_type": "code",
   "execution_count": 46,
   "metadata": {},
   "outputs": [
    {
     "data": {
      "text/plain": [
       "-0.6500881852845375"
      ]
     },
     "execution_count": 46,
     "metadata": {},
     "output_type": "execute_result"
    }
   ],
   "source": [
    "# Find the y-intercept\n",
    "ridge.intercept_"
   ]
  },
  {
   "cell_type": "code",
   "execution_count": 47,
   "metadata": {},
   "outputs": [
    {
     "data": {
      "text/plain": [
       "array([ 2.78189985e-03, -1.53139608e-04, -7.92354906e-05,  1.59795361e-03,\n",
       "        1.23673207e-02,  4.30474123e-03,  1.05881517e-02, -8.54528233e-05])"
      ]
     },
     "execution_count": 47,
     "metadata": {},
     "output_type": "execute_result"
    }
   ],
   "source": [
    "# Find the coefficients\n",
    "ridge.coef_"
   ]
  },
  {
   "cell_type": "code",
   "execution_count": 48,
   "metadata": {},
   "outputs": [
    {
     "data": {
      "text/plain": [
       "0.0686959811963872"
      ]
     },
     "execution_count": 48,
     "metadata": {},
     "output_type": "execute_result"
    }
   ],
   "source": [
    "# Find r-squared score\n",
    "ridge.score(X_test,Y_test)"
   ]
  },
  {
   "cell_type": "code",
   "execution_count": 49,
   "metadata": {},
   "outputs": [],
   "source": [
    "# Find the prediction error\n",
    "pred_err_ridge = ridge_Y_pred-Y_test\n",
    "# print(pred_err_ridge)"
   ]
  },
  {
   "cell_type": "code",
   "execution_count": 50,
   "metadata": {},
   "outputs": [
    {
     "data": {
      "image/png": "[encoded data removed]",
      "text/plain": [
       "<Figure size 432x288 with 1 Axes>"
      ]
     },
     "metadata": {
      "needs_background": "light"
     },
     "output_type": "display_data"
    }
   ],
   "source": [
    "# Plotting Target variables vs Independent variables - given and predicted\n",
    "\n",
    "# plt.plot(X,Y,'.',color='grey')\n",
    "plt.plot(X_test,Y_test,'.',color='red')\n",
    "plt.plot(X_test,ridge_Y_pred,'.',color='blue')\n",
    "# plt.plot(X_test,reg_Y_pred,'.',color='black')\n",
    "plt.xlabel(\"Independent Variables\")\n",
    "plt.ylabel(\"Target variable\")\n",
    "plt.title(\"Ridge Regression\")\n",
    "plt.show()"
   ]
  },
  {
   "cell_type": "code",
   "execution_count": 51,
   "metadata": {},
   "outputs": [
    {
     "data": {
      "image/png": "[encoded data removed]",
      "text/plain": [
       "<Figure size 432x288 with 1 Axes>"
      ]
     },
     "metadata": {
      "needs_background": "light"
     },
     "output_type": "display_data"
    }
   ],
   "source": [
    "# Plotting Target variables - given, predicted and prediction error\n",
    "\n",
    "plt.plot(Y_test,color='green',label='Actual data')\n",
    "plt.plot(ridge_Y_pred,'-',color='blue',label='Predicted data')\n",
    "plt.plot(pred_err_ridge,'--',color='red',label='Prediction error')\n",
    "plt.xlabel(\"Observed data\")\n",
    "plt.ylabel(\"Predicted data\")\n",
    "plt.title(\"Prediction error\")\n",
    "plt.legend()\n",
    "plt.show()"
   ]
  },
  {
   "cell_type": "markdown",
   "metadata": {},
   "source": [
    "## Evaluation metrics"
   ]
  },
  {
   "cell_type": "markdown",
   "metadata": {},
   "source": [
    "### 1. R-squared (Coefficient of Determination):"
   ]
  },
  {
   "cell_type": "code",
   "execution_count": 52,
   "metadata": {
    "scrolled": true
   },
   "outputs": [
    {
     "name": "stdout",
     "output_type": "stream",
     "text": [
      "0.0686959811963872\n"
     ]
    }
   ],
   "source": [
    "r2_ridge = metrics.r2_score(Y_test,ridge_Y_pred)\n",
    "print(r2_ridge)"
   ]
  },
  {
   "cell_type": "markdown",
   "metadata": {},
   "source": [
    "### 2. Mean Squared Error (MSE):"
   ]
  },
  {
   "cell_type": "code",
   "execution_count": 53,
   "metadata": {},
   "outputs": [
    {
     "name": "stdout",
     "output_type": "stream",
     "text": [
      "0.022865855698362365\n"
     ]
    }
   ],
   "source": [
    "mean2_ridge = metrics.mean_squared_error(Y_test,ridge_Y_pred)\n",
    "print(mean2_ridge)"
   ]
  },
  {
   "cell_type": "markdown",
   "metadata": {},
   "source": [
    "### 3. Root Mean Squared Error (RMSE):"
   ]
  },
  {
   "cell_type": "code",
   "execution_count": 54,
   "metadata": {},
   "outputs": [
    {
     "name": "stdout",
     "output_type": "stream",
     "text": [
      "0.1512146014720879\n"
     ]
    }
   ],
   "source": [
    "rt_mean2_ridge = metrics.mean_squared_error(Y_test,ridge_Y_pred, squared=False)\n",
    "print(rt_mean2_ridge)"
   ]
  },
  {
   "cell_type": "markdown",
   "metadata": {},
   "source": [
    "### 4. Mean Absolute Error (MAE):"
   ]
  },
  {
   "cell_type": "code",
   "execution_count": 55,
   "metadata": {},
   "outputs": [
    {
     "name": "stdout",
     "output_type": "stream",
     "text": [
      "0.06728468527182344\n"
     ]
    }
   ],
   "source": [
    "mean_abs_ridge = metrics.mean_absolute_error(Y_test,ridge_Y_pred)\n",
    "print(mean_abs_ridge)"
   ]
  },
  {
   "cell_type": "markdown",
   "metadata": {},
   "source": [
    "**Applications:**\n",
    "\n",
    "Used in scenarios where multicollinearity is present, such as economics and social sciences. Suitable when there's a risk of overfitting due to a large number of features.\n",
    "\n",
    "**Strengths:**\n",
    "\n",
    "1. Reduces overfitting by controlling coefficient magnitudes.\n",
    "\n",
    "2. Improves model stability and generalization to new data.\n",
    "\n",
    "3. Can handle multicollinearity (high correlation between predictors) effectively.\n",
    "\n",
    "**Limitations:**\n",
    "\n",
    "1. Bias-Variance Trade-off: Ridge Regression strikes a balance between bias and variance, but excessive regularization (high α) can lead to underfitting.\n",
    "\n",
    "2. Feature Selection: Ridge Regression doesn't explicitly eliminate features, making it less suitable for feature selection tasks.\n",
    "\n",
    "3. Scaling Sensitivity: Proper feature scaling is crucial for Ridge Regression's performance, as it's sensitive to feature magnitudes.\n",
    "\n",
    "4. Non-Linearity Limitation: Limited ability to capture complex non-linear relationships in data due to its linear nature.\n",
    "\n",
    "Ridge Regression provides a balance between fitting the data well and preventing overfitting, making it useful for cases where there's a concern about the model's complexity and potential instability."
   ]
  },
  {
   "cell_type": "markdown",
   "metadata": {},
   "source": [
    "## Lasso Regression \n",
    "\n",
    "Lasso Regression, another form of linear regression, is a regularization technique that helps prevent overfitting and feature selection. Here's a brief summary:\n",
    "\n",
    "1. **Regularization:** Lasso Regression adds a regularization term to the linear regression cost function, penalizing large coefficients.\n",
    "\n",
    "2. **L1 Norm Penalty:** Lasso uses the L1 norm (sum of absolute values) of coefficient values as the regularization term.\n",
    "\n",
    "3. **Tuning Parameter:** The hyperparameter lambda (α) controls the strength of regularization. Higher α increases the penalty."
   ]
  },
  {
   "cell_type": "code",
   "execution_count": 56,
   "metadata": {},
   "outputs": [],
   "source": [
    "# Create a lasso regression model\n",
    "lasso = linear_model.Lasso(alpha=1,max_iter=1000)"
   ]
  },
  {
   "cell_type": "code",
   "execution_count": 57,
   "metadata": {},
   "outputs": [],
   "source": [
    "# Fit the data\n",
    "lasso_Fit = lasso.fit(X_train, Y_train)"
   ]
  },
  {
   "cell_type": "code",
   "execution_count": 58,
   "metadata": {},
   "outputs": [],
   "source": [
    "# Predict the dependent variable using independent varables from test set\n",
    "lasso_Y_pred = lasso.predict(X_test)\n",
    "# print(lasso_Y_pred)"
   ]
  },
  {
   "cell_type": "code",
   "execution_count": 59,
   "metadata": {},
   "outputs": [
    {
     "data": {
      "text/plain": [
       "0.009101518025939281"
      ]
     },
     "execution_count": 59,
     "metadata": {},
     "output_type": "execute_result"
    }
   ],
   "source": [
    "# Find the y-intercept\n",
    "lasso.intercept_"
   ]
  },
  {
   "cell_type": "code",
   "execution_count": 60,
   "metadata": {},
   "outputs": [
    {
     "data": {
      "text/plain": [
       "array([ 0.00000000e+00,  7.78301789e-05,  7.20128712e-06,  0.00000000e+00,\n",
       "        0.00000000e+00,  0.00000000e+00,  0.00000000e+00, -0.00000000e+00])"
      ]
     },
     "execution_count": 60,
     "metadata": {},
     "output_type": "execute_result"
    }
   ],
   "source": [
    "# Find the coefficients\n",
    "lasso.coef_"
   ]
  },
  {
   "cell_type": "code",
   "execution_count": 61,
   "metadata": {},
   "outputs": [
    {
     "data": {
      "text/plain": [
       "0.009835818784782902"
      ]
     },
     "execution_count": 61,
     "metadata": {},
     "output_type": "execute_result"
    }
   ],
   "source": [
    "# Find r-squared score\n",
    "lasso.score(X_test,Y_test)"
   ]
  },
  {
   "cell_type": "code",
   "execution_count": 62,
   "metadata": {},
   "outputs": [],
   "source": [
    "# Find the prediction error\n",
    "pred_err_lasso = lasso_Y_pred-Y_test\n",
    "# print(pred_err_lasso)"
   ]
  },
  {
   "cell_type": "code",
   "execution_count": 63,
   "metadata": {},
   "outputs": [
    {
     "data": {
      "image/png": "[encoded data removed]",
      "text/plain": [
       "<Figure size 432x288 with 1 Axes>"
      ]
     },
     "metadata": {
      "needs_background": "light"
     },
     "output_type": "display_data"
    }
   ],
   "source": [
    "# Plotting Target variables vs Independent variables - given and predicted\n",
    "\n",
    "# plt.plot(X,Y,'.',color='grey')\n",
    "plt.plot(X_test,Y_test,'.',color='red')\n",
    "plt.plot(X_test,lasso_Y_pred,'.',color='blue')\n",
    "# plt.plot(Y_test,lasso_Y_pred,'.',color='black')\n",
    "plt.xlabel(\"Independent Variables\")\n",
    "plt.ylabel(\"Target variable\")\n",
    "plt.title(\"Lasso Regression\")\n",
    "plt.show()"
   ]
  },
  {
   "cell_type": "code",
   "execution_count": 64,
   "metadata": {
    "scrolled": true
   },
   "outputs": [
    {
     "data": {
      "image/png": "[encoded data removed]",
      "text/plain": [
       "<Figure size 432x288 with 1 Axes>"
      ]
     },
     "metadata": {
      "needs_background": "light"
     },
     "output_type": "display_data"
    }
   ],
   "source": [
    "# Plotting Target variables - given, predicted and prediction error\n",
    "\n",
    "plt.plot(Y_test,color='green',label='Actual data')\n",
    "plt.plot(lasso_Y_pred,'-',color='blue',label='Predicted data')\n",
    "plt.plot(pred_err_lasso,'--',color='red',label='Prediction error')\n",
    "plt.xlabel(\"Observed data\")\n",
    "plt.ylabel(\"Predicted data\")\n",
    "plt.title(\"Prediction error\")\n",
    "plt.legend()\n",
    "plt.show()"
   ]
  },
  {
   "cell_type": "markdown",
   "metadata": {},
   "source": [
    "## Evaluation metrics"
   ]
  },
  {
   "cell_type": "markdown",
   "metadata": {},
   "source": [
    "### 1. R-squared (Coefficient of Determination):"
   ]
  },
  {
   "cell_type": "code",
   "execution_count": 65,
   "metadata": {
    "scrolled": true
   },
   "outputs": [
    {
     "name": "stdout",
     "output_type": "stream",
     "text": [
      "0.009835818784782902\n"
     ]
    }
   ],
   "source": [
    "r2_lasso = metrics.r2_score(Y_test,lasso_Y_pred)\n",
    "print(r2_lasso)"
   ]
  },
  {
   "cell_type": "markdown",
   "metadata": {},
   "source": [
    "### 2. Mean Squared Error (MSE):"
   ]
  },
  {
   "cell_type": "code",
   "execution_count": 66,
   "metadata": {},
   "outputs": [
    {
     "name": "stdout",
     "output_type": "stream",
     "text": [
      "0.024311020706685744\n"
     ]
    }
   ],
   "source": [
    "mean2_lasso = metrics.mean_squared_error(Y_test,lasso_Y_pred)\n",
    "print(mean2_lasso)"
   ]
  },
  {
   "cell_type": "markdown",
   "metadata": {},
   "source": [
    "### 3. Root Mean Squared Error (RMSE):"
   ]
  },
  {
   "cell_type": "code",
   "execution_count": 67,
   "metadata": {},
   "outputs": [
    {
     "name": "stdout",
     "output_type": "stream",
     "text": [
      "0.1559199176073594\n"
     ]
    }
   ],
   "source": [
    "rt_mean2_lasso = metrics.mean_squared_error(Y_test,lasso_Y_pred, squared=False)\n",
    "print(rt_mean2_lasso)"
   ]
  },
  {
   "cell_type": "markdown",
   "metadata": {},
   "source": [
    "### 4. Mean Absolute Error (MAE):\n"
   ]
  },
  {
   "cell_type": "code",
   "execution_count": 68,
   "metadata": {},
   "outputs": [
    {
     "name": "stdout",
     "output_type": "stream",
     "text": [
      "0.041305027574179184\n"
     ]
    }
   ],
   "source": [
    "mean_abs_lasso = metrics.mean_absolute_error(Y_test,lasso_Y_pred)\n",
    "print(mean_abs_lasso)"
   ]
  },
  {
   "cell_type": "markdown",
   "metadata": {},
   "source": [
    "**Applications:**\n",
    "\n",
    "Used when feature selection is important, such as in genetics, image processing, and financial modeling. Suitable for cases where there's a concern about overfitting or too many irrelevant features.\n",
    "\n",
    "**Strengths:**\n",
    "\n",
    "1. Performs automatic feature selection by driving some coefficients to exactly zero, effectively excluding less relevant features.\n",
    "\n",
    "2. Effective for datasets with many features or multicollinearity.\n",
    "\n",
    "3. Enhances model interpretability by reducing the number of non-zero coefficients.\n",
    "\n",
    "**Limitations:**\n",
    "\n",
    "1. Sparse Solutions: While Lasso performs automatic feature selection, it might lead to excessively sparse models, excluding some useful variables.\n",
    "\n",
    "2. Scaling Sensitivity: Feature scaling is crucial for Lasso's performance, similar to Ridge Regression, as it's sensitive to feature magnitudes.\n",
    "\n",
    "3. Non-Convergence: Lasso's optimization process can struggle with highly correlated features or very large datasets, leading to non-convergence.\n",
    "\n",
    "4. Limited Variables: Lasso's feature selection might omit relevant variables if their impact is subtle or intertwined with other features.\n",
    "\n",
    "Lasso Regression helps create simpler and more interpretable models by selecting relevant features while reducing overfitting, making it valuable for scenarios with a high number of features and multicollinearity."
   ]
  },
  {
   "cell_type": "markdown",
   "metadata": {},
   "source": [
    "## Support Vector Regression (SVR)\n",
    "\n",
    "Support Vector Regression (SVR) is a powerful regression technique that uses Support Vector Machines (SVMs) to predict continuous outcomes. Here's a concise overview, along with its limitations:\n",
    "\n",
    "1. **Hyperplane Fitting:** SVR aims to find a hyperplane that best fits the data, considering a specified margin around the hyperplane.\n",
    "\n",
    "2. **Kernel Trick:** SVR can handle non-linear relationships by mapping the data into a higher-dimensional space using kernel functions.\n",
    "\n",
    "3. **Epsilon-Sensitive Loss Function:** SVR introduces an epsilon-insensitive loss function that allows for a specified tolerance around the predicted values."
   ]
  },
  {
   "cell_type": "code",
   "execution_count": 69,
   "metadata": {},
   "outputs": [],
   "source": [
    "from sklearn.svm import SVR"
   ]
  },
  {
   "cell_type": "code",
   "execution_count": 70,
   "metadata": {},
   "outputs": [],
   "source": [
    "# Fit the data\n",
    "svr_Fit = SVR().fit(X_train, Y_train)"
   ]
  },
  {
   "cell_type": "code",
   "execution_count": 71,
   "metadata": {},
   "outputs": [],
   "source": [
    "# Predict the dependent variable using independent varables from test set\n",
    "svr_Y_pred = svr_Fit.predict(X_test)\n",
    "# print(svr_Y_pred)"
   ]
  },
  {
   "cell_type": "code",
   "execution_count": 72,
   "metadata": {},
   "outputs": [
    {
     "data": {
      "text/plain": [
       "array([0.09246153])"
      ]
     },
     "execution_count": 72,
     "metadata": {},
     "output_type": "execute_result"
    }
   ],
   "source": [
    "# Find the y-intercept\n",
    "svr_Fit.intercept_"
   ]
  },
  {
   "cell_type": "code",
   "execution_count": 73,
   "metadata": {},
   "outputs": [
    {
     "data": {
      "text/plain": [
       "-0.23826684044256208"
      ]
     },
     "execution_count": 73,
     "metadata": {},
     "output_type": "execute_result"
    }
   ],
   "source": [
    "# Find r-squared score\n",
    "svr_Fit.score(X_test,Y_test)"
   ]
  },
  {
   "cell_type": "code",
   "execution_count": 74,
   "metadata": {},
   "outputs": [],
   "source": [
    "# Find the prediction \n",
    "pred_err_svr = svr_Y_pred-Y_test\n",
    "# print(pred_err_svr)"
   ]
  },
  {
   "cell_type": "code",
   "execution_count": 75,
   "metadata": {},
   "outputs": [
    {
     "data": {
      "image/png": "[encoded data removed]",
      "text/plain": [
       "<Figure size 432x288 with 1 Axes>"
      ]
     },
     "metadata": {
      "needs_background": "light"
     },
     "output_type": "display_data"
    }
   ],
   "source": [
    "# Plotting Target variables vs Independent variables - given and predicted\n",
    "\n",
    "# plt.plot(X,Y,'.',color='grey')\n",
    "plt.plot(X_test,Y_test,'.',color='red')\n",
    "plt.plot(X_test,svr_Y_pred,'.',color='blue')\n",
    "plt.xlabel(\"Independent Variables\")\n",
    "plt.ylabel(\"Target variable\")\n",
    "plt.title(\"SVR Regression\")\n",
    "plt.show()"
   ]
  },
  {
   "cell_type": "code",
   "execution_count": 76,
   "metadata": {
    "scrolled": true
   },
   "outputs": [
    {
     "data": {
      "image/png": "[encoded data removed]",
      "text/plain": [
       "<Figure size 432x288 with 1 Axes>"
      ]
     },
     "metadata": {
      "needs_background": "light"
     },
     "output_type": "display_data"
    }
   ],
   "source": [
    "# Plotting Target variables - given, predicted and prediction error\n",
    "\n",
    "plt.plot(Y_test,color='green',label='Actual data')\n",
    "plt.plot(svr_Y_pred,'-',color='blue',label='Predicted data')\n",
    "plt.plot(pred_err_svr,'--',color='red',label='Prediction error')\n",
    "plt.xlabel(\"Observed data\")\n",
    "plt.ylabel(\"Predicted data\")\n",
    "plt.title(\"Prediction error\")\n",
    "plt.legend()\n",
    "plt.show()"
   ]
  },
  {
   "cell_type": "markdown",
   "metadata": {},
   "source": [
    "## Evaluation metrics"
   ]
  },
  {
   "cell_type": "markdown",
   "metadata": {},
   "source": [
    "### 1. R-squared (Coefficient of Determination):"
   ]
  },
  {
   "cell_type": "code",
   "execution_count": 77,
   "metadata": {
    "scrolled": true
   },
   "outputs": [
    {
     "name": "stdout",
     "output_type": "stream",
     "text": [
      "-0.23826684044256208\n"
     ]
    }
   ],
   "source": [
    "r2_svr = metrics.r2_score(Y_test,svr_Y_pred)\n",
    "print(r2_svr)"
   ]
  },
  {
   "cell_type": "markdown",
   "metadata": {},
   "source": [
    "### 2. Mean Squared Error (MSE):"
   ]
  },
  {
   "cell_type": "code",
   "execution_count": 78,
   "metadata": {},
   "outputs": [
    {
     "name": "stdout",
     "output_type": "stream",
     "text": [
      "0.030402564917522808\n"
     ]
    }
   ],
   "source": [
    "mean2_svr = metrics.mean_squared_error(Y_test,svr_Y_pred)\n",
    "print(mean2_svr)"
   ]
  },
  {
   "cell_type": "markdown",
   "metadata": {},
   "source": [
    "### 3. Root Mean Squared Error (RMSE):"
   ]
  },
  {
   "cell_type": "code",
   "execution_count": 79,
   "metadata": {},
   "outputs": [
    {
     "name": "stdout",
     "output_type": "stream",
     "text": [
      "0.17436331299193306\n"
     ]
    }
   ],
   "source": [
    "rt_mean2_svr = metrics.mean_squared_error(Y_test,svr_Y_pred, squared=False)\n",
    "print(rt_mean2_svr)"
   ]
  },
  {
   "cell_type": "markdown",
   "metadata": {},
   "source": [
    "### 4. Mean Absolute Error (MAE):\n"
   ]
  },
  {
   "cell_type": "code",
   "execution_count": 80,
   "metadata": {},
   "outputs": [
    {
     "name": "stdout",
     "output_type": "stream",
     "text": [
      "0.11551765620168858\n"
     ]
    }
   ],
   "source": [
    "mean_abs_svr = metrics.mean_absolute_error(Y_test,svr_Y_pred)\n",
    "print(mean_abs_svr)"
   ]
  },
  {
   "cell_type": "markdown",
   "metadata": {},
   "source": [
    "**Applications:**\n",
    "\n",
    "Used in finance for stock price prediction, in healthcare for disease progression modeling, and in various fields for time series forecasting.\n",
    "\n",
    "**Strengths:**\n",
    "\n",
    "1. Effective for capturing complex relationships, even in high-dimensional spaces.\n",
    "\n",
    "2. Handles non-linear data through kernel functions.\n",
    "\n",
    "3. Provides control over model complexity through tuning hyperparameters.\n",
    "\n",
    "**Limitations**\n",
    "\n",
    "1. Sensitive to Hyperparameters: SVR performance heavily depends on selecting appropriate kernel and regularization parameters, which can be challenging.\n",
    "\n",
    "2. Computational Complexity: Training SVR models, especially with non-linear kernels and large datasets, can be computationally intensive.\n",
    "\n",
    "3. Memory Consumption: SVR models, especially those with complex kernels, can consume significant memory resources.\n",
    "\n",
    "4. Interpretability: SVR models are less interpretable than linear regression due to their non-linear nature and reliance on kernel functions.\n",
    "\n",
    "5. Limited for Noisy Data: SVR might struggle with noisy data or outliers, affecting model performance and robustness.\n",
    "\n",
    "Support Vector Regression offers a robust approach for regression tasks, particularly when dealing with non-linear data. However, careful parameter tuning and consideration of its limitations are crucial for achieving optimal results."
   ]
  },
  {
   "cell_type": "markdown",
   "metadata": {},
   "source": [
    "## Best Regression Model based on Evaluation Metrics\n",
    "\n",
    "So far we have calculated the evaluation metrics values. Now we will decide the optimum model based on these values."
   ]
  },
  {
   "cell_type": "code",
   "execution_count": 81,
   "metadata": {},
   "outputs": [],
   "source": [
    "Evaluation_metrics = ['R2 score','MSE','Root MSE','MAE']"
   ]
  },
  {
   "cell_type": "code",
   "execution_count": 82,
   "metadata": {},
   "outputs": [],
   "source": [
    "All_r2 = [r2_reg, r2_Dtree, r2_RF, r2_ridge, r2_lasso, r2_svr]\n",
    "All_MSE = [mean2_reg, mean2_Dtree, mean2_RF, mean2_ridge, mean2_lasso, mean2_svr]\n",
    "All_rt_MSE = [rt_mean2_reg, rt_mean2_Dtree, rt_mean2_RF, rt_mean2_ridge, rt_mean2_lasso, rt_mean2_svr]\n",
    "All_MAE = [mean_abs_reg, mean_abs_Dtree, mean_abs_RF, mean_abs_ridge, mean_abs_lasso, mean_abs_svr]\n",
    "\n",
    "r2_best = max(All_r2)\n",
    "MSE_best = min(All_MSE)\n",
    "rt_MSE_best = min(All_rt_MSE)\n",
    "MAE_best = min(All_MAE)\n",
    "Values = [r2_best, MSE_best, rt_MSE_best, MAE_best]"
   ]
  },
  {
   "cell_type": "code",
   "execution_count": 83,
   "metadata": {},
   "outputs": [],
   "source": [
    "Name_Reg_models = ['Linear Regression', 'Decision Tree Regression', 'Random Forest Regression', 'Ridge Regression', 'Lasso Regression', 'SVR (Support Vector Regression)']\n",
    "\n",
    "model_r2_best = Name_Reg_models[All_r2.index(r2_best)]\n",
    "model_MSE_best = Name_Reg_models[All_MSE.index(MSE_best)]\n",
    "model_rt_MSE_best = Name_Reg_models[All_rt_MSE.index(rt_MSE_best)]\n",
    "model_MAE_best = Name_Reg_models[All_MAE.index(MAE_best)]\n",
    "\n",
    "Regression_models = [model_r2_best, model_MSE_best, model_rt_MSE_best, model_MAE_best]"
   ]
  },
  {
   "cell_type": "code",
   "execution_count": 84,
   "metadata": {},
   "outputs": [
    {
     "name": "stdout",
     "output_type": "stream",
     "text": [
      "  Evaluation Metrics     Best Regression model     Value\n",
      "0           R2 score  Decision Tree Regression  0.232415\n",
      "1                MSE  Decision Tree Regression  0.018846\n",
      "2           Root MSE  Decision Tree Regression  0.137281\n",
      "3                MAE  Decision Tree Regression  0.013462\n"
     ]
    }
   ],
   "source": [
    "Best_models = pd.DataFrame(list(zip(Evaluation_metrics,Regression_models,Values)), columns=['Evaluation Metrics', 'Best Regression model', 'Value'])\n",
    "print(Best_models)"
   ]
  },
  {
   "cell_type": "markdown",
   "metadata": {},
   "source": [
    "## Optimum Regression model"
   ]
  },
  {
   "cell_type": "code",
   "execution_count": 85,
   "metadata": {},
   "outputs": [
    {
     "name": "stdout",
     "output_type": "stream",
     "text": [
      "The Optimum Regression model is: Decision Tree Regression    4\n",
      "Name: Best Regression model, dtype: int64\n"
     ]
    }
   ],
   "source": [
    "most_recurring = Best_models['Best Regression model'].value_counts()\n",
    "print(f'The Optimum Regression model is: {most_recurring}')"
   ]
  },
  {
   "cell_type": "markdown",
   "metadata": {},
   "source": [
    "## Feature Selection methods\n",
    "\n",
    "Feature selection is a critical step in machine learning that involves selecting a subset of relevant features from the original set of features to improve model performance, reduce overfitting, and enhance interpretability. "
   ]
  },
  {
   "cell_type": "markdown",
   "metadata": {},
   "source": [
    "### Feature Importance\n",
    "\n",
    "A heatmap is a graphical representation of data where values are represented by colors. While heatmaps are not typically used to directly visualize feature importance, they can be employed to visually explore correlations between features and the target variable, which indirectly provides insights into feature importance. "
   ]
  },
  {
   "cell_type": "code",
   "execution_count": 86,
   "metadata": {},
   "outputs": [],
   "source": [
    "X_np = pd.DataFrame(data.iloc[:, [4,5,6,7,8,9,10,12]])\n",
    "X_df = pd.DataFrame(X_np)\n",
    "Y_np = pd.DataFrame(data.iloc[:,-2])\n",
    "Y_df = pd.DataFrame(Y_np)"
   ]
  },
  {
   "cell_type": "code",
   "execution_count": 87,
   "metadata": {},
   "outputs": [
    {
     "name": "stdout",
     "output_type": "stream",
     "text": [
      "Index(['FFMC', 'DMC', 'DC', 'ISI', 'temp', 'RH', 'wind', 'area'], dtype='object')\n"
     ]
    },
    {
     "data": {
      "image/png": "[encoded data removed]",
      "text/plain": [
       "<Figure size 720x360 with 2 Axes>"
      ]
     },
     "metadata": {},
     "output_type": "display_data"
    }
   ],
   "source": [
    "# Plot a heatmap \n",
    "import seaborn as sns\n",
    "sns.set_theme()\n",
    "corrmat = X_df.corr()\n",
    "top_corr_features = corrmat.index\n",
    "print(top_corr_features)\n",
    "plt.figure(figsize=(10,5))\n",
    "g=sns.heatmap(X_df[top_corr_features].corr(),annot=True,cmap='RdYlGn')"
   ]
  },
  {
   "cell_type": "markdown",
   "metadata": {},
   "source": [
    "## Filter techniques\n",
    "\n",
    "Filter methods are a category of feature selection techniques that involve filtering out irrelevant or redundant features from the dataset before the model is built. These methods rely on statistical measures or scores to evaluate the relationship between each feature and the target variable, without involving the model's performance."
   ]
  },
  {
   "cell_type": "markdown",
   "metadata": {},
   "source": [
    "### Variance Threshold \n",
    "\n",
    "Variance Threshold is a feature selection technique that focuses on filtering out features with low variance, as they may carry little information or exhibit minimal variation within the dataset. This method is particularly useful for dealing with numerical features, and it's applied prior to building a predictive model. \n",
    "\n",
    "Useful in Classification: Variance Threshold is often used in classification tasks, where low-variance features might not contribute significantly to distinguishing between classes."
   ]
  },
  {
   "cell_type": "code",
   "execution_count": 88,
   "metadata": {},
   "outputs": [],
   "source": [
    "import sklearn.feature_selection as FS"
   ]
  },
  {
   "cell_type": "code",
   "execution_count": 89,
   "metadata": {
    "scrolled": true
   },
   "outputs": [
    {
     "name": "stdout",
     "output_type": "stream",
     "text": [
      "Index(['FFMC', 'DMC', 'DC', 'ISI', 'temp', 'RH', 'wind', 'area'], dtype='object')\n"
     ]
    }
   ],
   "source": [
    "# Determine the features to be included\n",
    "feature_names = X_df.columns\n",
    "print(feature_names)"
   ]
  },
  {
   "cell_type": "code",
   "execution_count": 90,
   "metadata": {},
   "outputs": [
    {
     "name": "stdout",
     "output_type": "stream",
     "text": [
      "VarianceThreshold(threshold=5)\n",
      "[ True  True  True  True  True  True False  True]\n",
      "Selected Features: ['FFMC', 'DMC', 'DC', 'ISI', 'temp', 'RH', 'area']\n"
     ]
    }
   ],
   "source": [
    "# Select features\n",
    "VarThresh = FS.VarianceThreshold(threshold=5)\n",
    "VarThresh_fit = VarThresh.fit(X_df)\n",
    "print(VarThresh_fit)\n",
    "\n",
    "print(VarThresh_fit.get_support())\n",
    "result_r = [feature_names[i] for i, n in enumerate(VarThresh_fit.get_support()) if n == 1]\n",
    "print(\"Selected Features: %s\" % result_r)"
   ]
  },
  {
   "cell_type": "markdown",
   "metadata": {},
   "source": [
    "**Considerations:**\n",
    "\n",
    "1. Variance Threshold is not suitable for categorical features or when interactions between features are crucial.\n",
    "\n",
    "2. It's important to scale features before applying Variance Threshold, especially if they have different scales.\n",
    "\n",
    "**Advantages:**\n",
    "\n",
    "1. Quickly removes low-variance features, reducing dimensionality.\n",
    "\n",
    "2. Can improve model performance and interpretability, especially when dealing with noisy or uninformative features.\n",
    "\n",
    "**Limitations:**\n",
    "\n",
    "1. It might remove features that, while having low variance, are still informative when combined with other features.\n",
    "\n",
    "2. Careful consideration of the threshold is required; setting it too low might exclude potentially useful features.\n",
    "\n",
    "Variance Threshold is a simple yet effective method for feature selection, especially in cases where features with little variability are likely to be noise or redundant."
   ]
  },
  {
   "cell_type": "markdown",
   "metadata": {},
   "source": [
    "### SelectKBest using ANOVA F-value \n",
    "\n",
    "SelectKBest is a feature selection technique that evaluates the relationship between each feature and the target variable using statistical tests. ANOVA F-value (Analysis of Variance F-value) is one such test used to select the top k features with the highest F-scores. This method is commonly applied in classification and regression tasks."
   ]
  },
  {
   "cell_type": "code",
   "execution_count": 91,
   "metadata": {},
   "outputs": [
    {
     "name": "stdout",
     "output_type": "stream",
     "text": [
      "Original shape: (517, 8), New shape: (517, 1)\n"
     ]
    }
   ],
   "source": [
    "# Change shape\n",
    "KBest_fclassif  = FS.SelectKBest(score_func=FS.f_classif,k=1)\n",
    "KBest_fclassif_fit = KBest_fclassif.fit_transform(X,Y)\n",
    "print(f'Original shape: {X.shape}, New shape: {KBest_fclassif_fit.shape}')"
   ]
  },
  {
   "cell_type": "code",
   "execution_count": 92,
   "metadata": {},
   "outputs": [
    {
     "name": "stdout",
     "output_type": "stream",
     "text": [
      "Selected Features: Index(['RH'], dtype='object')\n"
     ]
    }
   ],
   "source": [
    "# Select features\n",
    "KBest_fclassif.fit(X,Y)\n",
    "KBest_fclassif_feature_indices = KBest_fclassif.get_support()\n",
    "KBest_fclassif_feature_names = X_df.columns[KBest_fclassif_feature_indices]\n",
    "print(\"Selected Features:\", KBest_fclassif_feature_names)"
   ]
  },
  {
   "cell_type": "markdown",
   "metadata": {},
   "source": [
    "#### Chi-Square (χ²):\n",
    "\n",
    "The Chi-Square statistic is a measure used in statistics to assess the significance of the association between categorical variables. In the context of feature selection, the Chi-Square score is often used to evaluate the relationship between a categorical feature and a categorical target variable. It helps determine if the distribution of a feature's categories is independent of the target variable's categories or if there's a significant association."
   ]
  },
  {
   "cell_type": "code",
   "execution_count": 93,
   "metadata": {},
   "outputs": [
    {
     "name": "stdout",
     "output_type": "stream",
     "text": [
      "  feature     score\n",
      "0    FFMC  0.670300\n",
      "1     DMC  1.111236\n",
      "2      DC  0.796361\n",
      "3     ISI  1.168136\n",
      "4    temp  1.214791\n",
      "5      RH  5.473718\n",
      "6    wind  1.863531\n",
      "7    area  0.045730\n"
     ]
    }
   ],
   "source": [
    "# chi2 scores for all features\n",
    "KBest_fclassif_chi2_scores = pd.DataFrame(list(zip(feature_names,KBest_fclassif.scores_)), columns=['feature','score'])\n",
    "print(KBest_fclassif_chi2_scores)"
   ]
  },
  {
   "cell_type": "markdown",
   "metadata": {},
   "source": [
    "**Considerations:**\n",
    "\n",
    "1. It's crucial to specify the appropriate value of k, which determines the number of selected features.\n",
    "\n",
    "2. ANOVA F-value assumes that the features are normally distributed and have equal variances across different classes.\n",
    "\n",
    "**Advantages:**\n",
    "\n",
    "1. Selects the most relevant features based on their significance in explaining the target variable's variance.\n",
    "\n",
    "2. Can improve model performance by reducing noise and overfitting.\n",
    "\n",
    "**Limitations:**\n",
    "\n",
    "1. May not capture complex non-linear relationships between features and the target.\n",
    "2. Assumes that features are independent, which might not hold true in some cases.\n",
    "\n",
    "SelectKBest using ANOVA F-value is a valuable technique for feature selection, particularly when dealing with classification or regression problems and when linear relationships are relevant. It helps to focus on the most informative features for your model."
   ]
  },
  {
   "cell_type": "markdown",
   "metadata": {},
   "source": [
    "### SelectPercentile\n",
    "\n",
    "SelectPercentile is a feature selection technique that selects the top features based on a specified percentile of their statistical scores. This method is particularly useful when you want to retain a certain proportion of the most relevant features while discarding the rest. It can be applied with various statistical tests, such as ANOVA F-value for classification or regression tasks."
   ]
  },
  {
   "cell_type": "code",
   "execution_count": 94,
   "metadata": {},
   "outputs": [
    {
     "name": "stdout",
     "output_type": "stream",
     "text": [
      "Original shape: (517, 8), New shape: (517, 1)\n"
     ]
    }
   ],
   "source": [
    "# Change shape\n",
    "Percentile_fclassif  = FS.SelectPercentile(score_func=FS.f_classif)\n",
    "Percentile_fclassif_fit = Percentile_fclassif.fit_transform(X,Y)\n",
    "print(f'Original shape: {X.shape}, New shape: {Percentile_fclassif_fit.shape}')"
   ]
  },
  {
   "cell_type": "code",
   "execution_count": 95,
   "metadata": {},
   "outputs": [
    {
     "name": "stdout",
     "output_type": "stream",
     "text": [
      "Selected Features: Index(['RH'], dtype='object')\n"
     ]
    }
   ],
   "source": [
    "# Select features \n",
    "Percentile_fclassif.fit(X,Y)\n",
    "Percentile_fclassif_feature_indices = Percentile_fclassif.get_support()\n",
    "Percentile_fclassif_feature_names = X_df.columns[Percentile_fclassif_feature_indices]\n",
    "print(\"Selected Features:\", Percentile_fclassif_feature_names)"
   ]
  },
  {
   "cell_type": "code",
   "execution_count": 96,
   "metadata": {},
   "outputs": [
    {
     "name": "stdout",
     "output_type": "stream",
     "text": [
      "  feature     score\n",
      "0    FFMC  0.670300\n",
      "1     DMC  1.111236\n",
      "2      DC  0.796361\n",
      "3     ISI  1.168136\n",
      "4    temp  1.214791\n",
      "5      RH  5.473718\n",
      "6    wind  1.863531\n",
      "7    area  0.045730\n"
     ]
    }
   ],
   "source": [
    "# chi2 scores for all features\n",
    "Percentile_fclassif_scores = pd.DataFrame(list(zip(feature_names,Percentile_fclassif.scores_)), columns=['feature','score'])\n",
    "print(Percentile_fclassif_scores)"
   ]
  },
  {
   "cell_type": "markdown",
   "metadata": {},
   "source": [
    "**Considerations:**\n",
    "\n",
    "1. The percentile value directly influences the number of selected features. \n",
    "\n",
    "2. A higher percentile retains more features.\n",
    "\n",
    "**Advantages:**\n",
    "\n",
    "1. Automatically selects a proportion of top features, allowing you to balance between dimensionality reduction and information retention.\n",
    "\n",
    "2. Particularly useful when you have a large number of features and want to maintain a certain level of interpretability.\n",
    "\n",
    "**Limitations:**\n",
    "\n",
    "1. Similar to SelectKBest, SelectPercentile may not capture complex non-linear relationships and assumes feature independence.\n",
    "\n",
    "SelectPercentile is a flexible method for feature selection, giving you control over the proportion of features to retain based on their significance in explaining the target variable's variance. It helps strike a balance between model performance and dimensionality reduction."
   ]
  },
  {
   "cell_type": "markdown",
   "metadata": {},
   "source": [
    "## Wrapper Technique\n",
    "\n",
    "Wrapper techniques are a category of feature selection methods that evaluate the performance of a machine learning model using a specific subset of features. Unlike filter methods that use statistical measures, wrapper techniques involve training and evaluating a model multiple times with different feature subsets."
   ]
  },
  {
   "cell_type": "markdown",
   "metadata": {},
   "source": [
    "### Backward selection\n",
    "\n",
    "Backward Elimination is a specific type of wrapper technique for feature selection. It involves iteratively removing the least significant features from the original feature set until a stopping criterion is met. This method is often used in the context of regression analysis to identify the most relevant subset of features for building a predictive model. "
   ]
  },
  {
   "cell_type": "code",
   "execution_count": 97,
   "metadata": {},
   "outputs": [
    {
     "data": {
      "text/html": [
       "<style>#sk-container-id-1 {color: black;}#sk-container-id-1 pre{padding: 0;}#sk-container-id-1 div.sk-toggleable {background-color: white;}#sk-container-id-1 label.sk-toggleable__label {cursor: pointer;display: block;width: 100%;margin-bottom: 0;padding: 0.3em;box-sizing: border-box;text-align: center;}#sk-container-id-1 label.sk-toggleable__label-arrow:before {content: \"▸\";float: left;margin-right: 0.25em;color: #696969;}#sk-container-id-1 label.sk-toggleable__label-arrow:hover:before {color: black;}#sk-container-id-1 div.sk-estimator:hover label.sk-toggleable__label-arrow:before {color: black;}#sk-container-id-1 div.sk-toggleable__content {max-height: 0;max-width: 0;overflow: hidden;text-align: left;background-color: #f0f8ff;}#sk-container-id-1 div.sk-toggleable__content pre {margin: 0.2em;color: black;border-radius: 0.25em;background-color: #f0f8ff;}#sk-container-id-1 input.sk-toggleable__control:checked~div.sk-toggleable__content {max-height: 200px;max-width: 100%;overflow: auto;}#sk-container-id-1 input.sk-toggleable__control:checked~label.sk-toggleable__label-arrow:before {content: \"▾\";}#sk-container-id-1 div.sk-estimator input.sk-toggleable__control:checked~label.sk-toggleable__label {background-color: #d4ebff;}#sk-container-id-1 div.sk-label input.sk-toggleable__control:checked~label.sk-toggleable__label {background-color: #d4ebff;}#sk-container-id-1 input.sk-hidden--visually {border: 0;clip: rect(1px 1px 1px 1px);clip: rect(1px, 1px, 1px, 1px);height: 1px;margin: -1px;overflow: hidden;padding: 0;position: absolute;width: 1px;}#sk-container-id-1 div.sk-estimator {font-family: monospace;background-color: #f0f8ff;border: 1px dotted black;border-radius: 0.25em;box-sizing: border-box;margin-bottom: 0.5em;}#sk-container-id-1 div.sk-estimator:hover {background-color: #d4ebff;}#sk-container-id-1 div.sk-parallel-item::after {content: \"\";width: 100%;border-bottom: 1px solid gray;flex-grow: 1;}#sk-container-id-1 div.sk-label:hover label.sk-toggleable__label {background-color: #d4ebff;}#sk-container-id-1 div.sk-serial::before {content: \"\";position: absolute;border-left: 1px solid gray;box-sizing: border-box;top: 0;bottom: 0;left: 50%;z-index: 0;}#sk-container-id-1 div.sk-serial {display: flex;flex-direction: column;align-items: center;background-color: white;padding-right: 0.2em;padding-left: 0.2em;position: relative;}#sk-container-id-1 div.sk-item {position: relative;z-index: 1;}#sk-container-id-1 div.sk-parallel {display: flex;align-items: stretch;justify-content: center;background-color: white;position: relative;}#sk-container-id-1 div.sk-item::before, #sk-container-id-1 div.sk-parallel-item::before {content: \"\";position: absolute;border-left: 1px solid gray;box-sizing: border-box;top: 0;bottom: 0;left: 50%;z-index: -1;}#sk-container-id-1 div.sk-parallel-item {display: flex;flex-direction: column;z-index: 1;position: relative;background-color: white;}#sk-container-id-1 div.sk-parallel-item:first-child::after {align-self: flex-end;width: 50%;}#sk-container-id-1 div.sk-parallel-item:last-child::after {align-self: flex-start;width: 50%;}#sk-container-id-1 div.sk-parallel-item:only-child::after {width: 0;}#sk-container-id-1 div.sk-dashed-wrapped {border: 1px dashed gray;margin: 0 0.4em 0.5em 0.4em;box-sizing: border-box;padding-bottom: 0.4em;background-color: white;}#sk-container-id-1 div.sk-label label {font-family: monospace;font-weight: bold;display: inline-block;line-height: 1.2em;}#sk-container-id-1 div.sk-label-container {text-align: center;}#sk-container-id-1 div.sk-container {/* jupyter's `normalize.less` sets `[hidden] { display: none; }` but bootstrap.min.css set `[hidden] { display: none !important; }` so we also need the `!important` here to be able to override the default hidden behavior on the sphinx rendered scikit-learn.org. See: https://github.com/scikit-learn/scikit-learn/issues/21755 */display: inline-block !important;position: relative;}#sk-container-id-1 div.sk-text-repr-fallback {display: none;}</style><div id=\"sk-container-id-1\" class=\"sk-top-container\"><div class=\"sk-text-repr-fallback\"><pre>RFE(estimator=LinearRegression(), n_features_to_select=3)</pre><b>In a Jupyter environment, please rerun this cell to show the HTML representation or trust the notebook. <br />On GitHub, the HTML representation is unable to render, please try loading this page with nbviewer.org.</b></div><div class=\"sk-container\" hidden><div class=\"sk-item sk-dashed-wrapped\"><div class=\"sk-label-container\"><div class=\"sk-label sk-toggleable\"><input class=\"sk-toggleable__control sk-hidden--visually\" id=\"sk-estimator-id-1\" type=\"checkbox\" ><label for=\"sk-estimator-id-1\" class=\"sk-toggleable__label sk-toggleable__label-arrow\">RFE</label><div class=\"sk-toggleable__content\"><pre>RFE(estimator=LinearRegression(), n_features_to_select=3)</pre></div></div></div><div class=\"sk-parallel\"><div class=\"sk-parallel-item\"><div class=\"sk-item\"><div class=\"sk-label-container\"><div class=\"sk-label sk-toggleable\"><input class=\"sk-toggleable__control sk-hidden--visually\" id=\"sk-estimator-id-2\" type=\"checkbox\" ><label for=\"sk-estimator-id-2\" class=\"sk-toggleable__label sk-toggleable__label-arrow\">estimator: LinearRegression</label><div class=\"sk-toggleable__content\"><pre>LinearRegression()</pre></div></div></div><div class=\"sk-serial\"><div class=\"sk-item\"><div class=\"sk-estimator sk-toggleable\"><input class=\"sk-toggleable__control sk-hidden--visually\" id=\"sk-estimator-id-3\" type=\"checkbox\" ><label for=\"sk-estimator-id-3\" class=\"sk-toggleable__label sk-toggleable__label-arrow\">LinearRegression</label><div class=\"sk-toggleable__content\"><pre>LinearRegression()</pre></div></div></div></div></div></div></div></div></div></div>"
      ],
      "text/plain": [
       "RFE(estimator=LinearRegression(), n_features_to_select=3)"
      ]
     },
     "execution_count": 97,
     "metadata": {},
     "output_type": "execute_result"
    }
   ],
   "source": [
    "# Create the model\n",
    "bwd_rfe_model = linear_model.LinearRegression()\n",
    "bwd_rfe = FS.RFE(estimator=bwd_rfe_model,n_features_to_select=3)\n",
    "bwd_rfe.fit(X, Y)"
   ]
  },
  {
   "cell_type": "code",
   "execution_count": 98,
   "metadata": {},
   "outputs": [
    {
     "name": "stdout",
     "output_type": "stream",
     "text": [
      "[False False False False  True  True  True False]\n"
     ]
    }
   ],
   "source": [
    "# Apply masking\n",
    "bwd_rfe_feature_mask = bwd_rfe.support_\n",
    "print(bwd_rfe_feature_mask)"
   ]
  },
  {
   "cell_type": "code",
   "execution_count": 99,
   "metadata": {},
   "outputs": [
    {
     "name": "stdout",
     "output_type": "stream",
     "text": [
      "Selected Features: Index(['temp', 'RH', 'wind'], dtype='object')\n"
     ]
    }
   ],
   "source": [
    "# Select features\n",
    "bwd_rfe_feature_indices = np.where(bwd_rfe_feature_mask)[0]\n",
    "bwd_rfe_feature_names = feature_names[bwd_rfe_feature_indices]\n",
    "print(\"Selected Features:\",bwd_rfe_feature_names)\n",
    "# print(bwd_rfe_feature_indices)"
   ]
  },
  {
   "cell_type": "code",
   "execution_count": 100,
   "metadata": {},
   "outputs": [],
   "source": [
    "# Indices of selected features\n",
    "X_bwd_rfe = X[:, bwd_rfe_feature_indices]\n",
    "# print(X_bwd_rfe)"
   ]
  },
  {
   "cell_type": "markdown",
   "metadata": {},
   "source": [
    "**Considerations:**\n",
    "\n",
    "1. Statistical Significance: Backward elimination relies on statistical tests like p-values. Ensure that assumptions like normality and linearity are met for accurate significance assessment.\n",
    "\n",
    "2. Multicollinearity Impact: Removing one feature can affect the significance of others, especially in multicollinear scenarios. Removed features might be important due to correlation.\n",
    "\n",
    "3. Stopping Criteria: Choosing the right stopping point is vital. Too few features can lead to underfitting, while too many may cause overfitting. Balance based on desired model performance.\n",
    "\n",
    "4. Domain Expertise: Backward elimination may exclude theoretically important features. Consult domain knowledge to guide the process and prevent eliminating crucial variables.\n",
    "\n",
    "**Advantages:**\n",
    "\n",
    "1. Backward elimination provides a systematic way to identify the most important features for a predictive model.\n",
    "\n",
    "2. It can help in simplifying the model and improving its interpretability.\n",
    "\n",
    "**Limitations:**\n",
    "\n",
    "1. The process can be computationally intensive, especially with a large number of features.\n",
    "\n",
    "2. Backward elimination may not capture complex interactions between features, and it assumes that the model's performance improves with fewer features.\n",
    "\n",
    "Backward elimination is a structured approach for selecting features based on their significance in a model. While it has limitations, such as assuming linear relationships and interactions, it can be a useful tool in achieving model parsimony and interpretability."
   ]
  },
  {
   "cell_type": "markdown",
   "metadata": {},
   "source": [
    "### RFE (Backward selection method)\n",
    "\n",
    "Recursive Feature Elimination (RFE) is a specific type of backward selection method for feature selection. It iteratively removes the least significant features from the model while evaluating its performance. RFE is particularly useful when building predictive models and aims to identify the most relevant subset of features."
   ]
  },
  {
   "cell_type": "code",
   "execution_count": 101,
   "metadata": {},
   "outputs": [
    {
     "name": "stdout",
     "output_type": "stream",
     "text": [
      "No. of Selected Features: 3\n",
      "Selected Features mask: [False False False False  True  True  True False]\n",
      "Selected Features ranking: [2 4 5 3 1 1 1 6]\n",
      "Selected Features: ['temp', 'RH', 'wind']\n"
     ]
    }
   ],
   "source": [
    "rfe_mod = FS.RFE(linear_model.LinearRegression(),n_features_to_select=3)\n",
    "rfe_values=rfe_mod.fit(X,Y)\n",
    "rfe_values.support_\n",
    "rfe_values.ranking_\n",
    "print(\"No. of Selected Features: %s\" % (rfe_values.n_features_))\n",
    "print(\"Selected Features mask: %s\" % (rfe_values.support_))\n",
    "print(\"Selected Features ranking: %s\" % (rfe_values.ranking_))\n",
    "result_rfe = [feature_names[i] for i, n in enumerate(rfe_values.support_) if n == 1]\n",
    "print(\"Selected Features: %s\" % result_rfe)"
   ]
  },
  {
   "cell_type": "markdown",
   "metadata": {},
   "source": [
    "**Considerations:**\n",
    "\n",
    "1. Choose an appropriate estimator for RFE that matches the problem type (classification, regression, etc.).\n",
    "\n",
    "2. Balance the number of features retained with model complexity and performance.\n",
    "\n",
    "**Advantages:**\n",
    "\n",
    "1. RFE systematically evaluates feature importance, capturing complex interactions and dependencies.\n",
    "\n",
    "2. It can lead to improved model performance and interpretability by selecting only relevant features.\n",
    "\n",
    "**Limitations:**\n",
    "\n",
    "1. RFE can be computationally intensive, especially with a large number of features.\n",
    "\n",
    "2. Model instability due to feature elimination might require careful parameter tuning.\n",
    "\n",
    "RFE is a robust method for feature selection, suitable for a wide range of modeling techniques. It helps in identifying the most important features by iteratively evaluating their contribution to the model's performance."
   ]
  },
  {
   "cell_type": "markdown",
   "metadata": {},
   "source": [
    "### RFE with Cross-Validation\n",
    "\n",
    "Recursive Feature Elimination with Cross-Validation (RFECV) is an advanced version of the RFE method that incorporates cross-validation during the feature selection process. It addresses some of the limitations of standard RFE by providing a more reliable and robust estimate of feature importance."
   ]
  },
  {
   "cell_type": "markdown",
   "metadata": {},
   "source": [
    "### RFE with Cross-Validation (Method 1)\n",
    "\n",
    "This method is similar to the **\"Backward selection\"** that we have performed previously."
   ]
  },
  {
   "cell_type": "code",
   "execution_count": 102,
   "metadata": {},
   "outputs": [
    {
     "data": {
      "text/html": [
       "<style>#sk-container-id-2 {color: black;}#sk-container-id-2 pre{padding: 0;}#sk-container-id-2 div.sk-toggleable {background-color: white;}#sk-container-id-2 label.sk-toggleable__label {cursor: pointer;display: block;width: 100%;margin-bottom: 0;padding: 0.3em;box-sizing: border-box;text-align: center;}#sk-container-id-2 label.sk-toggleable__label-arrow:before {content: \"▸\";float: left;margin-right: 0.25em;color: #696969;}#sk-container-id-2 label.sk-toggleable__label-arrow:hover:before {color: black;}#sk-container-id-2 div.sk-estimator:hover label.sk-toggleable__label-arrow:before {color: black;}#sk-container-id-2 div.sk-toggleable__content {max-height: 0;max-width: 0;overflow: hidden;text-align: left;background-color: #f0f8ff;}#sk-container-id-2 div.sk-toggleable__content pre {margin: 0.2em;color: black;border-radius: 0.25em;background-color: #f0f8ff;}#sk-container-id-2 input.sk-toggleable__control:checked~div.sk-toggleable__content {max-height: 200px;max-width: 100%;overflow: auto;}#sk-container-id-2 input.sk-toggleable__control:checked~label.sk-toggleable__label-arrow:before {content: \"▾\";}#sk-container-id-2 div.sk-estimator input.sk-toggleable__control:checked~label.sk-toggleable__label {background-color: #d4ebff;}#sk-container-id-2 div.sk-label input.sk-toggleable__control:checked~label.sk-toggleable__label {background-color: #d4ebff;}#sk-container-id-2 input.sk-hidden--visually {border: 0;clip: rect(1px 1px 1px 1px);clip: rect(1px, 1px, 1px, 1px);height: 1px;margin: -1px;overflow: hidden;padding: 0;position: absolute;width: 1px;}#sk-container-id-2 div.sk-estimator {font-family: monospace;background-color: #f0f8ff;border: 1px dotted black;border-radius: 0.25em;box-sizing: border-box;margin-bottom: 0.5em;}#sk-container-id-2 div.sk-estimator:hover {background-color: #d4ebff;}#sk-container-id-2 div.sk-parallel-item::after {content: \"\";width: 100%;border-bottom: 1px solid gray;flex-grow: 1;}#sk-container-id-2 div.sk-label:hover label.sk-toggleable__label {background-color: #d4ebff;}#sk-container-id-2 div.sk-serial::before {content: \"\";position: absolute;border-left: 1px solid gray;box-sizing: border-box;top: 0;bottom: 0;left: 50%;z-index: 0;}#sk-container-id-2 div.sk-serial {display: flex;flex-direction: column;align-items: center;background-color: white;padding-right: 0.2em;padding-left: 0.2em;position: relative;}#sk-container-id-2 div.sk-item {position: relative;z-index: 1;}#sk-container-id-2 div.sk-parallel {display: flex;align-items: stretch;justify-content: center;background-color: white;position: relative;}#sk-container-id-2 div.sk-item::before, #sk-container-id-2 div.sk-parallel-item::before {content: \"\";position: absolute;border-left: 1px solid gray;box-sizing: border-box;top: 0;bottom: 0;left: 50%;z-index: -1;}#sk-container-id-2 div.sk-parallel-item {display: flex;flex-direction: column;z-index: 1;position: relative;background-color: white;}#sk-container-id-2 div.sk-parallel-item:first-child::after {align-self: flex-end;width: 50%;}#sk-container-id-2 div.sk-parallel-item:last-child::after {align-self: flex-start;width: 50%;}#sk-container-id-2 div.sk-parallel-item:only-child::after {width: 0;}#sk-container-id-2 div.sk-dashed-wrapped {border: 1px dashed gray;margin: 0 0.4em 0.5em 0.4em;box-sizing: border-box;padding-bottom: 0.4em;background-color: white;}#sk-container-id-2 div.sk-label label {font-family: monospace;font-weight: bold;display: inline-block;line-height: 1.2em;}#sk-container-id-2 div.sk-label-container {text-align: center;}#sk-container-id-2 div.sk-container {/* jupyter's `normalize.less` sets `[hidden] { display: none; }` but bootstrap.min.css set `[hidden] { display: none !important; }` so we also need the `!important` here to be able to override the default hidden behavior on the sphinx rendered scikit-learn.org. See: https://github.com/scikit-learn/scikit-learn/issues/21755 */display: inline-block !important;position: relative;}#sk-container-id-2 div.sk-text-repr-fallback {display: none;}</style><div id=\"sk-container-id-2\" class=\"sk-top-container\"><div class=\"sk-text-repr-fallback\"><pre>RFECV(cv=2, estimator=LinearRegression())</pre><b>In a Jupyter environment, please rerun this cell to show the HTML representation or trust the notebook. <br />On GitHub, the HTML representation is unable to render, please try loading this page with nbviewer.org.</b></div><div class=\"sk-container\" hidden><div class=\"sk-item sk-dashed-wrapped\"><div class=\"sk-label-container\"><div class=\"sk-label sk-toggleable\"><input class=\"sk-toggleable__control sk-hidden--visually\" id=\"sk-estimator-id-4\" type=\"checkbox\" ><label for=\"sk-estimator-id-4\" class=\"sk-toggleable__label sk-toggleable__label-arrow\">RFECV</label><div class=\"sk-toggleable__content\"><pre>RFECV(cv=2, estimator=LinearRegression())</pre></div></div></div><div class=\"sk-parallel\"><div class=\"sk-parallel-item\"><div class=\"sk-item\"><div class=\"sk-label-container\"><div class=\"sk-label sk-toggleable\"><input class=\"sk-toggleable__control sk-hidden--visually\" id=\"sk-estimator-id-5\" type=\"checkbox\" ><label for=\"sk-estimator-id-5\" class=\"sk-toggleable__label sk-toggleable__label-arrow\">estimator: LinearRegression</label><div class=\"sk-toggleable__content\"><pre>LinearRegression()</pre></div></div></div><div class=\"sk-serial\"><div class=\"sk-item\"><div class=\"sk-estimator sk-toggleable\"><input class=\"sk-toggleable__control sk-hidden--visually\" id=\"sk-estimator-id-6\" type=\"checkbox\" ><label for=\"sk-estimator-id-6\" class=\"sk-toggleable__label sk-toggleable__label-arrow\">LinearRegression</label><div class=\"sk-toggleable__content\"><pre>LinearRegression()</pre></div></div></div></div></div></div></div></div></div></div>"
      ],
      "text/plain": [
       "RFECV(cv=2, estimator=LinearRegression())"
      ]
     },
     "execution_count": 102,
     "metadata": {},
     "output_type": "execute_result"
    }
   ],
   "source": [
    "# Create the model\n",
    "bwd_rfecv_model = linear_model.LinearRegression()\n",
    "bwd_rfecv = FS.RFECV(estimator=bwd_rfecv_model, cv=2)\n",
    "bwd_rfecv.fit(X, Y)"
   ]
  },
  {
   "cell_type": "code",
   "execution_count": 103,
   "metadata": {},
   "outputs": [
    {
     "name": "stdout",
     "output_type": "stream",
     "text": [
      "[False False False False False False  True False]\n"
     ]
    }
   ],
   "source": [
    "# Apply masking\n",
    "bwd_rfecv_feature_mask = bwd_rfecv.support_\n",
    "print(bwd_rfecv_feature_mask)"
   ]
  },
  {
   "cell_type": "code",
   "execution_count": 104,
   "metadata": {},
   "outputs": [
    {
     "name": "stdout",
     "output_type": "stream",
     "text": [
      "Selected Features: Index(['wind'], dtype='object')\n"
     ]
    }
   ],
   "source": [
    "# Select features\n",
    "bwd_rfecv_feature_indices = np.where(bwd_rfecv_feature_mask)[0]\n",
    "bwd_rfecv_feature_names = feature_names[bwd_rfecv_feature_indices]\n",
    "print(\"Selected Features:\",bwd_rfecv_feature_names)\n",
    "# print(bwd_rfecv_feature_indices)"
   ]
  },
  {
   "cell_type": "code",
   "execution_count": 105,
   "metadata": {},
   "outputs": [],
   "source": [
    "# Indices of selected features\n",
    "X_bwd_rfecv = X[:, bwd_rfecv_feature_indices]\n",
    "# print(X_bwd_rfecv)"
   ]
  },
  {
   "cell_type": "markdown",
   "metadata": {},
   "source": [
    "### RFE with Cross-Validation (Method 2)\n",
    "\n",
    "This method is similar to the **\"RFE (Backward selection method)\"** that we have performed previously. "
   ]
  },
  {
   "cell_type": "code",
   "execution_count": 106,
   "metadata": {
    "scrolled": true
   },
   "outputs": [
    {
     "name": "stdout",
     "output_type": "stream",
     "text": [
      "No. of Selected Features: 1\n",
      "Selected Features mask: [False False False False False False  True False]\n",
      "Selected Features ranking: [4 6 7 5 2 3 1 8]\n",
      "Selected Features: ['wind']\n"
     ]
    }
   ],
   "source": [
    "rfecv_mod = FS.RFECV(linear_model.LinearRegression(),cv=2)\n",
    "rfecv_values=rfecv_mod.fit(X,Y)\n",
    "rfecv_values.support_\n",
    "rfecv_values.ranking_\n",
    "print(\"No. of Selected Features: %s\" % (rfecv_values.n_features_))\n",
    "print(\"Selected Features mask: %s\" % (rfecv_values.support_))\n",
    "print(\"Selected Features ranking: %s\" % (rfecv_values.ranking_))\n",
    "result_rfecv = [feature_names[i] for i, n in enumerate(rfecv_values.support_) if n == 1]\n",
    "print(\"Selected Features: %s\" % result_rfecv)"
   ]
  },
  {
   "cell_type": "markdown",
   "metadata": {},
   "source": [
    "**Considerations:**\n",
    "\n",
    "1. Choose an appropriate estimator for RFECV that matches the problem type (classification, regression, etc.).\n",
    "\n",
    "2. Specify the cross-validation strategy (cv) and scoring metric (scoring) according to your dataset and modeling objectives.\n",
    "\n",
    "**Advantages:**\n",
    "\n",
    "1. RFECV offers more reliable feature selection by incorporating cross-validation to estimate feature importance.\n",
    "\n",
    "2. It helps mitigate overfitting and enhances model generalization.\n",
    "\n",
    "**Limitations:**\n",
    "\n",
    "1. RFECV can be computationally intensive due to repeated cross-validation iterations.\n",
    "\n",
    "2. Model instability due to feature elimination might require careful parameter tuning.\n",
    "\n",
    "RFECV is a powerful feature selection technique that takes into account both feature importance and model performance via cross-validation. It provides a more accurate estimate of feature relevance and contributes to building more robust predictive models."
   ]
  },
  {
   "cell_type": "markdown",
   "metadata": {},
   "source": [
    "#  Implications and Applications:\n",
    "\n",
    "Optimal model selection has profound implications for real-world decision-making, shaping a wide spectrum of industries and applications. By choosing the most suitable predictive model, businesses and organizations can significantly enhance their operations and outcomes. The accurate predictions facilitated by optimal model selection lead to heightened accuracy and performance, which is critical in fields such as finance, healthcare, and manufacturing.\n",
    "\n",
    "One of the key benefits is resource optimization. Industries like supply chain management, energy distribution, and agriculture benefit from precise predictions that reduce inefficiencies and wastage, thereby contributing to cost reduction. Moreover, optimal model selection aids in risk mitigation, enabling better assessment and management of potential threats in fields like insurance and finance.\n",
    "\n",
    "In healthcare, optimal models play a pivotal role in medical diagnosis, treatment selection, and prognosis, ultimately leading to improved patient outcomes. The environmental impact is substantial as well, with accurate predictions guiding disaster preparedness, ecosystem conservation, and climate change responses.\n",
    "\n",
    "Across domains, optimal model selection has transformative effects on scientific research, public policy, customer experiences, and educational advancements. It empowers decision-makers with data-driven insights, fostering effective governance, strategic planning, and innovation. Ultimately, optimal model selection is a cornerstone of modern decision-making, shaping a more efficient, informed, and impactful world."
   ]
  },
  {
   "cell_type": "markdown",
   "metadata": {},
   "source": [
    "# Conclusion:\n",
    "\n",
    "In conclusion, the study underscores several pivotal takeaways that emphasize the critical role of optimal regression model selection in data analysis and decision-making. The process of identifying and choosing the most suitable model holds profound implications for real-world applications.\n",
    "\n",
    "First and foremost, optimal model selection directly contributes to heightened accuracy and predictive performance. Through a systematic evaluation of various regression techniques, the study highlights the potential for achieving more precise and reliable predictions across diverse domains. This accuracy translates into enhanced resource allocation, cost reduction, and risk management, empowering organizations to make informed decisions.\n",
    "\n",
    "Furthermore, the study underscores the value of resource optimization. By carefully selecting the optimal regression model, industries can streamline operations, reduce inefficiencies, and ensure the optimal allocation of valuable resources. This resonates particularly in sectors such as manufacturing, finance, and healthcare.\n",
    "\n",
    "Additionally, the study's findings emphasize that optimal regression model selection is not a mere technical step, but rather a strategic imperative. The right model not only improves accuracy but also facilitates better interpretability and understanding of underlying relationships within the data.\n",
    "\n",
    "In essence, the study affirms that optimal regression model selection is a linchpin of modern data analysis. Its impact spans across industries and applications, from enhancing decision-making processes to driving innovation. By embracing the principles and methodologies outlined in this study, organizations can harness the power of data-driven insights and achieve a competitive edge in today's complex and dynamic landscape."
   ]
  }
 ],
 "metadata": {
  "kernelspec": {
   "display_name": "Python 3",
   "language": "python",
   "name": "python3"
  },
  "language_info": {
   "codemirror_mode": {
    "name": "ipython",
    "version": 3
   },
   "file_extension": ".py",
   "mimetype": "text/x-python",
   "name": "python",
   "nbconvert_exporter": "python",
   "pygments_lexer": "ipython3",
   "version": "3.8.5"
  }
 },
 "nbformat": 4,
 "nbformat_minor": 4
}
